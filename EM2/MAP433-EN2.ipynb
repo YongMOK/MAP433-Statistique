{
 "cells": [
  {
   "cell_type": "markdown",
   "id": "decent-boulder",
   "metadata": {},
   "source": [
    "# MAP433 - EN2"
   ]
  },
  {
   "cell_type": "markdown",
   "id": "integral-sitting",
   "metadata": {},
   "source": [
    "## Importation des librairies"
   ]
  },
  {
   "cell_type": "code",
   "execution_count": 1,
   "id": "rural-robin",
   "metadata": {},
   "outputs": [],
   "source": [
    "import numpy as np\n",
    "import matplotlib.pyplot as plt\n",
    "import numpy.random as npr\n",
    "import scipy.stats as sps\n",
    "import pandas as pd"
   ]
  },
  {
   "cell_type": "markdown",
   "id": "ranking-photograph",
   "metadata": {},
   "source": [
    "## 1 - EMV de $\\theta = (\\mu_0,\\mu_1,\\sigma_0^2,\\sigma_1^2)$"
   ]
  },
  {
   "cell_type": "code",
   "execution_count": 2,
   "id": "southern-reviewer",
   "metadata": {},
   "outputs": [],
   "source": [
    "x = [13, 130, 39, 33,10,13,68,18,3,11,38,23,60,5,9,59,5,86,22,70,58,3,167,15,30,8,20,67,26,19]\n",
    "y = [14, 8, 20, 3, 138, 122, 78, 69, 111, 3, 128, 31, 18, 35, 111, 109, 36, 27, 32, 35, 12, 27, 8, 3, 80, 91, 68, 66, 176, 15]\n",
    "X = np.array(x)\n",
    "Y = np.array(y)"
   ]
  },
  {
   "cell_type": "code",
   "execution_count": 3,
   "id": "hungarian-august",
   "metadata": {},
   "outputs": [
    {
     "name": "stdout",
     "output_type": "stream",
     "text": [
      "mu0 =  37.6 \n",
      "\n",
      "mu1 =  55.8 \n",
      "\n",
      "sigma0^2 =  1431.8400000000004 \n",
      "\n",
      "sigma1^2 =  2251.36 \n",
      "\n"
     ]
    }
   ],
   "source": [
    "mu0 = np.sum(X)/X.size\n",
    "mu1 = np.sum(Y)/Y.size\n",
    "sigma0 = (np.linalg.norm(X - mu0*np.ones(X.size))**2)/X.size\n",
    "sigma1 = (np.linalg.norm(Y - mu1*np.ones(Y.size))**2)/Y.size\n",
    "print(\"mu0 = \", mu0, \"\\n\")\n",
    "print(\"mu1 = \", mu1, \"\\n\")\n",
    "print(\"sigma0^2 = \", sigma0, \"\\n\")\n",
    "print(\"sigma1^2 = \", sigma1, \"\\n\")"
   ]
  },
  {
   "cell_type": "markdown",
   "id": "outside-compensation",
   "metadata": {},
   "source": [
    "## 2 - Test du rapport de vraisemblance généralisé de niveau $\\alpha$ de $H_0 : \\sigma_0^2 = \\sigma_1^2 \\quad contre \\quad H_1 :  \\sigma_0^2 > \\sigma_1^2$"
   ]
  },
  {
   "cell_type": "markdown",
   "id": "significant-raising",
   "metadata": {},
   "source": [
    "On a : $R_\\alpha = \\Lambda^{'}(Z) > q_{F(n-1,p-1)^{1-\\alpha}}$"
   ]
  },
  {
   "cell_type": "markdown",
   "id": "worst-citation",
   "metadata": {},
   "source": [
    "## 3 - Calcul de la p-valeur du test"
   ]
  },
  {
   "cell_type": "code",
   "execution_count": 4,
   "id": "distinct-controversy",
   "metadata": {},
   "outputs": [
    {
     "name": "stdout",
     "output_type": "stream",
     "text": [
      "0.8855279309812643\n"
     ]
    }
   ],
   "source": [
    "val = ((Y.size-1)*np.linalg.norm(X - mu0*np.ones(X.size))**2)/((X.size -1)*np.linalg.norm(Y - mu1*np.ones(Y.size))**2)\n",
    "alpha_chap = 1 - sps.f.cdf(val, X.size -1, Y.size -1)\n",
    "print(alpha_chap)"
   ]
  },
  {
   "cell_type": "markdown",
   "id": "ambient-stadium",
   "metadata": {},
   "source": [
    "Interprétation : $\\alpha_{chap} \\approx 0.88$ est la p-valeur du test, c-à-d la valeur en deça de laquelle on cesse de commettre l'erreur de type 1: Rejeter H0 à tort.\n",
    "Comme ici, $\\alpha = 0.01 < \\alpha_{chap} \\approx 0.88$, on ne rejètera pas H0 alors que la probabilité d'observer $\\sigma_0 = \\sigma_1$ est de moins de $0.01$ (Sous reserve que le modèle est correct).\n",
    "<br/> <b>Conclusion:</b> Comme $\\alpha_{chap}$ est grand, alors, soit le modèle gaussien considéré avec deux variances differentes n'est pas correct, soit l'hypothèse nulle n'est pas \"bonne\" (le test n'est pas concluant pour cette hypothèse)."
   ]
  },
  {
   "cell_type": "markdown",
   "id": "impossible-mathematics",
   "metadata": {},
   "source": [
    "## 5 - Test de niveau $\\alpha = 0.01$ de l'hypothese $\\mu_0 = \\mu_1 \\quad contre \\quad \\mu_0 \\neq \\mu_1$"
   ]
  },
  {
   "cell_type": "markdown",
   "id": "packed-details",
   "metadata": {},
   "source": [
    "Le test est defini par la region de rejet $R_\\alpha = \\{ Z \\in \\mathbb{R}^{n+p}, \\sqrt{\\frac{np}{n+p}}\\frac{|\\hat{\\mu_0} - \\hat{\\mu_1}|}{S_{n,p}(Z)} > t\\}$ avec t = "
   ]
  },
  {
   "cell_type": "code",
   "execution_count": 5,
   "id": "chubby-albuquerque",
   "metadata": {},
   "outputs": [
    {
     "name": "stdout",
     "output_type": "stream",
     "text": [
      "2.6632869538098674\n"
     ]
    }
   ],
   "source": [
    "alpha = 0.01\n",
    "t = sps.t.ppf(1 - alpha/2, X.size+Y.size-2)\n",
    "print(t)"
   ]
  },
  {
   "cell_type": "markdown",
   "id": "satisfied-tactics",
   "metadata": {},
   "source": [
    "## 6 - p-valeur du test"
   ]
  },
  {
   "cell_type": "code",
   "execution_count": 6,
   "id": "protecting-township",
   "metadata": {},
   "outputs": [
    {
     "name": "stdout",
     "output_type": "stream",
     "text": [
      "1905.1034482758623\n",
      "0.11175016168340379\n"
     ]
    }
   ],
   "source": [
    "SnpCarre = (np.linalg.norm(X - mu0*np.ones(X.size))**2 + np.linalg.norm(Y - mu1*np.ones(Y.size))**2)/(X.size+Y.size-2)\n",
    "print(SnpCarre)\n",
    "alpha_chap2 = 2*(1 - sps.t.cdf(np.sqrt((X.size*Y.size)/(X.size+Y.size))*np.abs(mu0 - mu1)/np.sqrt(SnpCarre), X.size+Y.size-2))\n",
    "print(alpha_chap2)"
   ]
  },
  {
   "cell_type": "markdown",
   "id": "professional-timber",
   "metadata": {},
   "source": [
    "Interprétation : $\\alpha_{chap} \\approx 0.11$ est la p-valeur du test, c-à-d la valeur en deça de laquelle on cesse de commettre l'erreur de type 1: Rejeter H0 à tort.\n",
    "Comme ici, $\\alpha = 0.01 < \\alpha_{chap} \\approx 0.11$, on ne rejètera pas H0 et la probabilité d'observer $\\mu_0 = \\mu_1$ est de moins de $0.01$ (Sous reserve que le modèle est correct).\n",
    "<br/> <b>Conclusion:</b> Comme $\\alpha_{chap2}$ est petit, le test est efficace pour cette hypothèse nulle."
   ]
  },
  {
   "cell_type": "markdown",
   "id": "fancy-section",
   "metadata": {},
   "source": [
    "## 7- Test de niveau $\\alpha$ avec $\\alpha = 0.01$ et $H_0 : \\mu_0 \\leq \\mu_1 \\quad contre \\quad \\mu_0 > \\mu_1$"
   ]
  },
  {
   "cell_type": "markdown",
   "id": "primary-suicide",
   "metadata": {},
   "source": [
    "Le test est defini par la region de rejet: $R_\\alpha = \\{ Z \\in \\mathbb{R}^{n+p},\\sqrt{\\frac{np}{n+p}}\\frac{\\hat{\\mu_0} - \\hat{\\mu_1}}{S_{n,p}(Z)} > t\\}$ avec t = "
   ]
  },
  {
   "cell_type": "code",
   "execution_count": 7,
   "id": "raised-highway",
   "metadata": {},
   "outputs": [
    {
     "name": "stdout",
     "output_type": "stream",
     "text": [
      "2.3923774702828906\n"
     ]
    }
   ],
   "source": [
    "alpha = 0.01\n",
    "t = sps.t.ppf(1-alpha, X.size+Y.size-2)\n",
    "print(t)"
   ]
  },
  {
   "cell_type": "markdown",
   "id": "fallen-likelihood",
   "metadata": {},
   "source": [
    "## 8- p-valeur du test"
   ]
  },
  {
   "cell_type": "code",
   "execution_count": 8,
   "id": "happy-milton",
   "metadata": {},
   "outputs": [
    {
     "name": "stdout",
     "output_type": "stream",
     "text": [
      "0.9441249191582981\n"
     ]
    }
   ],
   "source": [
    "alpha_chap3 = (1 - sps.t.cdf(np.sqrt((X.size*Y.size)/(X.size+Y.size))*(mu0 - mu1)/np.sqrt(SnpCarre), X.size+Y.size-2))\n",
    "print(alpha_chap3)"
   ]
  },
  {
   "cell_type": "markdown",
   "id": "local-gardening",
   "metadata": {},
   "source": [
    "Interprétation : $\\alpha_{chap} \\approx 0.94$ est la p-valeur du test, c-à-d la valeur en deça de laquelle on cesse de commettre l'erreur de type 1: Rejeter H0 à tort.\n",
    "Comme ici, $\\alpha = 0.01 < \\alpha_{chap} \\approx 0.94$, on ne rejètera pas H0 alors que la probabilité d'observer $\\mu_0 \\leq  \\mu_1$ est de moins de $0.01$ (Sous reserve que le modèle est correct).\n",
    "<br/> <b>Conclusion:</b> Comme $\\alpha_{chap3}$ est grand, alors, soit le modèle gaussien considéré avec une même variance n'est pas correct, soit l'hypothèse nulle n'est pas \"bonne\" (le test n'est pas concluant pour cette hypothèse)."
   ]
  },
  {
   "cell_type": "code",
   "execution_count": null,
   "id": "minor-indicator",
   "metadata": {},
   "outputs": [],
   "source": []
  }
 ],
 "metadata": {
  "kernelspec": {
   "display_name": "Python 3",
   "language": "python",
   "name": "python3"
  },
  "language_info": {
   "codemirror_mode": {
    "name": "ipython",
    "version": 3
   },
   "file_extension": ".py",
   "mimetype": "text/x-python",
   "name": "python",
   "nbconvert_exporter": "python",
   "pygments_lexer": "ipython3",
   "version": "3.7.0"
  },
  "varInspector": {
   "cols": {
    "lenName": 16,
    "lenType": 16,
    "lenVar": 40
   },
   "kernels_config": {
    "python": {
     "delete_cmd_postfix": "",
     "delete_cmd_prefix": "del ",
     "library": "var_list.py",
     "varRefreshCmd": "print(var_dic_list())"
    },
    "r": {
     "delete_cmd_postfix": ") ",
     "delete_cmd_prefix": "rm(",
     "library": "var_list.r",
     "varRefreshCmd": "cat(var_dic_list()) "
    }
   },
   "types_to_exclude": [
    "module",
    "function",
    "builtin_function_or_method",
    "instance",
    "_Feature"
   ],
   "window_display": false
  }
 },
 "nbformat": 4,
 "nbformat_minor": 5
}
