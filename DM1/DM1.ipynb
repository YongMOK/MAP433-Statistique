{
 "cells": [
  {
   "cell_type": "markdown",
   "id": "58a3b0eb",
   "metadata": {},
   "source": [
    " \n",
    "# I. Partie théorique"
   ]
  },
  {
   "cell_type": "markdown",
   "id": "b1889e83",
   "metadata": {},
   "source": [
    "## Estimation par moindres carrés du vecteur β"
   ]
  },
  {
   "cell_type": "markdown",
   "id": "ff62dcd8",
   "metadata": {},
   "source": [
    "$\\textbf{1.}$ On doit avoir $û$ tel que $Zû$ est la projection orthogonale de $Y$ sur $\\operatorname{Im}(Z)$.\n",
    "\n",
    "On a alors pour $$v\\in\\mathbb{R}^p, (Zv)^T (Y-Zû) = 0 $$ donc $$v^T Z^T(Y-Zû) = 0 $$ qui est vrai pour tout $v$, \\\n",
    "d'où $$Z^TY=Z^TZû$$"
   ]
  },
  {
   "cell_type": "markdown",
   "id": "9ce22503",
   "metadata": {},
   "source": [
    "$\\textbf{2.}$ $Z^{\\#}Z=I_p$ est évident.\n",
    "\n",
    "On a vu que pour $Y\\in\\mathbb{R}^n$ si $û\\in argmin_{u\\in\\mathbb{R}^p} \\| Y-Zû\\|^2$  $Z^TY=Z^TZû$, donc $Zû=ZZ^\\# Y$\n",
    "Mais $Zû = argmin_{v\\in Im(Z)} \\| Y-v\\|^2$ donc comme $ZZ^\\# Y$ minimise la distance entre Y et l'image de Z pour tout Y, on a bien $$ZZ^\\# = H$$."
   ]
  },
  {
   "cell_type": "markdown",
   "id": "40e5f146",
   "metadata": {},
   "source": [
    "$\\textbf{3.}$ $\\hat{\\beta} = Z^\\# Y$ minimise $J_n$.\n",
    "\n",
    "Il existe un unique $x\\in \\mathbb{R}^n$ qui minimise $x\\mapsto \\| Y-x\\|^2$. \\\n",
    "Comme le $Z^TZ$ est inversible, Z est injective, d'où l'unicité de l'estimateur des moindre carrés."
   ]
  },
  {
   "cell_type": "markdown",
   "id": "2d56e681",
   "metadata": {},
   "source": [
    "$\\textbf{4.}$ Pour $\\theta\\in\\Theta$, $\\mathbb{E}_\\theta(Y) = Z\\beta$, donc $\\mathbb{E}_\\theta (\\hat{\\beta}) = Z^\\#Z\\beta = \\beta$ par linéarité.\n",
    "\n",
    "L'estimateur est donc sans biais."
   ]
  },
  {
   "cell_type": "markdown",
   "id": "b002cede",
   "metadata": {},
   "source": [
    "$\\textbf{5.}$ Pour $X$ vecteur aléatoire, $$Var_\\theta(X) = \\mathbb{E}_\\theta((X-\\mathbb{E}_\\theta(X))(X-\\mathbb{E}_\\theta(X))^T)$$\n",
    "\n",
    "$$Var_\\theta(\\tilde{\\beta}) = \\mathbb{E}_\\theta(Z^\\#(Y-\\mathbb{E}_\\theta(Y))(Y-\\mathbb{E}_\\theta(Y))^T Z^{\\# T}) = Z^\\# Var_\\theta(Y)Z^{\\# T} = \\sigma^2 (Z^T Z)^{-1}$$"
   ]
  },
  {
   "cell_type": "markdown",
   "id": "71eccae7",
   "metadata": {},
   "source": [
    "$\\textbf{6.}$ $\\mathbb{E}_\\theta (\\tilde{\\beta}) = BZ\\beta$, donc l'estimateur est non biaisé si $BZ\\beta = \\beta$ pour tout $\\beta\\in\\mathbb{R}^p$ donc si $BZ=I_p$."
   ]
  },
  {
   "cell_type": "markdown",
   "id": "5225da99",
   "metadata": {},
   "source": [
    "$\\textbf{7.}$ $$\\operatorname{Cov}_\\theta(\\tilde{\\beta}, \\hat{\\beta}) = \\mathbb{E}_\\theta((\\tilde{\\beta}- \\mathbb{E}_\\theta(\\tilde{\\beta}))(\\hat{\\beta}- \\mathbb{E}_\\theta(\\hat{\\beta}))^T) = \\sigma^2 BZ^{\\#T} = \\sigma^2 (Z^T Z)^{-1}$$"
   ]
  },
  {
   "cell_type": "markdown",
   "id": "b01ef2b7",
   "metadata": {},
   "source": [
    "$\\textbf{8.}$ Pour $x\\in\\mathbb{R}^p$, $$x^T Var_\\theta(\\hat{\\beta}) x =  Cov_\\theta(x^T \\tilde{\\beta}, \\hat{\\beta} x) \\leq \\sqrt{Var_\\theta(x^T \\tilde{\\beta}) Var_\\theta(x^T \\hat{\\beta})}$$\n",
    "\n",
    "Donc $$x^T Var_\\theta(\\hat{\\beta}) x \\leq x^T Var_\\theta(\\tilde{\\beta}) x \\quad\\text{et} \\quad Var_\\theta(\\hat{\\beta}) \\leq Var_\\theta(\\tilde{\\beta})$$"
   ]
  },
  {
   "cell_type": "markdown",
   "id": "5cec6e44",
   "metadata": {},
   "source": [
    "**En conclusion, nous venons d’établir que l’estimateur des moindres carrés de $β$ est\n",
    "$$\n",
    "\\hat{\\beta}:= (Z^TZ)^{−1}Z^TY .\n",
    "$$\n",
    "C’est un estimateur sans biais, de variance $σ^2(Z^TZ)^{−1}$. Il est de variance minimale dans la classe des estimateurs sans biais et linéaires.**"
   ]
  },
  {
   "cell_type": "markdown",
   "id": "502ce0db",
   "metadata": {},
   "source": [
    "## 1.2 Estimation de la variance $σ^2$ et Coefficient de détermination"
   ]
  },
  {
   "cell_type": "markdown",
   "id": "3aa87c15",
   "metadata": {},
   "source": [
    "$\\textbf{9.}$ $\\| Y - Z\\hat{\\beta} \\|^2 = \\| (I-H)(Y-Z\\beta) \\|^2=\\sigma^2 \\| (I-H)\\epsilon(\\theta) \\|^2\n",
    "$ car $Z\\beta\\in Ker(I-H)=Im(Z)$ \\\n",
    "$Var_\\theta(\\epsilon(\\theta)) = I$ et $Var_\\theta((I-H)\\epsilon(\\theta)) = (I-H)I(I-H)^T = (I-H)$ \\\n",
    "$\\mathbb{E}_\\theta (\\| Y - Z\\hat{\\beta} \\|^2) = Tr(Var_\\theta((I-H)\\epsilon(\\theta))) = Tr(I-H) = n-p$ car I-H est la projection orthogonale sur $Im(Z)^\\perp$ qui est de dimension n-p. \\\n",
    "Donc $\\mathbb{E}_\\theta \\left(\\dfrac{\\| Y - Z\\hat{\\beta} \\|^2}{n-p} \\right) = \\sigma^2$, l'estimateur est sans biais."
   ]
  },
  {
   "cell_type": "markdown",
   "id": "f9cc2e60",
   "metadata": {},
   "source": [
    "$\\textbf{10.}$ Comme $H$ est une projection orthogonale, $Z$ et $(I-H)Z$ sont orthogonaux, d'où $$\\| Y\\|^2 = RSS+SSE$$"
   ]
  },
  {
   "cell_type": "markdown",
   "id": "20e339e5",
   "metadata": {},
   "source": [
    "**En conclusion, l’estimateur\n",
    "$$\n",
    "\\hat{σ}^2 := \\left(\\dfrac{\\| Y - Z\\hat{\\beta} \\|^2}{n-p} \\right)\n",
    "$$\n",
    "est un estimateur sans biais de $σ^2$. De plus, le coefficient de détermination défini par\n",
    "$$\n",
    "R^2:= \\dfrac{RSS}{∥Y∥^2}\n",
    "$$\n",
    "est un nombre dans $[0, 1]$, qui représente la part de variation de $Y$ expliquée par le modèle de régression.**"
   ]
  },
  {
   "cell_type": "markdown",
   "id": "0ab15255",
   "metadata": {},
   "source": [
    "## 1.3 Cas de la régression linéaire gaussienne"
   ]
  },
  {
   "cell_type": "markdown",
   "id": "3d191f0e",
   "metadata": {},
   "source": [
    "$\\textbf{11.}$ La log-vraisemblance de l'observation y vaut $J(\\theta) = log(p_\\theta(y)) = -nlog(2\\pi)/2 - nlog(\\sigma) - \\dfrac{\\|y-Z\\beta\\|^2}{2\\sigma^2}$. \\\n",
    "Pour $\\beta$ fixé, J est maximum quand $\\dfrac{n}{\\sigma} = \\dfrac{\\|y-Z\\beta\\|^2}{\\sigma^3}$ donc $\\sigma^2 = \\dfrac{\\|y-Z\\beta\\|^2}{n}$ (les limites en 0 et $+\\infty$ sont $-\\infty$). \\\n",
    "Et $J\\left(\\beta, \\dfrac{\\|y-Z\\beta\\|^2}{n}\\right) =$ $ C - n log\\left(\\dfrac{\\|y-Z\\beta\\|^2}{n}\\right)/2$ avec C constante, donc $J\\left(\\beta, \\dfrac{\\|y-Z\\beta\\|^2}{n}\\right)$ est maximale quand $\\|y-Z\\beta\\|^2$ est minimale. \\\n",
    "L'estimateur de maximum de vraisemblance est donc : $\\hat{\\beta} = Z^\\#Y$ et $\\tilde{\\sigma}^2 = \\dfrac{\\|Y-Z\\hat{\\beta} \\|^2}{n}$."
   ]
  },
  {
   "cell_type": "markdown",
   "id": "f78dbc11",
   "metadata": {},
   "source": [
    "\n",
    "\n",
    "\n"
   ]
  },
  {
   "cell_type": "markdown",
   "id": "a0a72373",
   "metadata": {},
   "source": [
    "$\\textbf{12.}$ Comme Y gaussienne, $\\hat{\\beta}$ est aussi gaussienne, et avec les résultats de la partie précédente, elle a une moyenne $\\beta$ et une variance $\\sigma^2(Z^TZ)^{-1}$.\n",
    "$$\n",
    "\\hat{\\beta}\\sim \\mathcal{N}(\\beta, \\sigma^2(Z^TZ)^{-1})   \\text{sous}  \\mathbb{P}_{\\theta}\n",
    "$$"
   ]
  },
  {
   "cell_type": "markdown",
   "id": "d202251b",
   "metadata": {},
   "source": [
    "$\\textbf{13.}$ $\\hat{\\sigma}^2 = \\dfrac{\\| (I-H)(Y-\\beta) \\|^2}{n-p}$, $Y-\\beta \\sim \\mathcal{N}(0, \\sigma^2 I)$ \n",
    "\n",
    "\n",
    "Avec le théorème de Cochran, comme I-H est la projection orthogonale sur un espace de dimension n-p \\\n",
    "$(n-p) \\dfrac{\\hat{\\sigma}^2}{\\sigma^2} \\sim \\chi^2(n-p)$ et $\\hat{\\sigma}^2\\sim \\dfrac{\\sigma^2}{n-p}\\chi^2(n-p)$ sour $\\mathbb{P}_\\theta$."
   ]
  },
  {
   "cell_type": "markdown",
   "id": "e97b766c",
   "metadata": {},
   "source": [
    "$\\textbf{14.}$ Comme $Z$ est injective et $Z\\hat{\\beta} = $ $HY$, $\\hat{\\beta}$ est une fonction de $HY$.\n",
    "on a donc $\\phi$, $\\psi$ tels que $\\hat{\\beta} = \\phi(HY)$ et $\\hat{\\sigma}^2= \\psi((I-H)Y)$ \\\n",
    "Avec le théorème de Cochran, comme $H$ est la projection orthogonale sur $Im(Z)$, $HY$ et $(I-H)Y$ sont indépendantes. \\\n",
    "$\\hat{\\beta}$ et $\\hat{\\sigma}^2$  sont indépendantes sous $\\mathbb{P}_\\theta$."
   ]
  },
  {
   "cell_type": "markdown",
   "id": "99285015",
   "metadata": {},
   "source": [
    "**En conclusion, dans le cas où les erreurs de régression sont gaussiennes, l’estimateur de β par moindres carrés et celui par maximum de vraisemblance\n",
    "coïncident. L’estimateur par maximum de vraisemblance de $σ^2$ est un estimateur biaisé. Enfin, les deux estimateurs $\\hat{β}$ et $\\hat{σ}^2$ sont indépendants et sous $\\mathbb{P}_\\theta$,\n",
    "nous avons**\n",
    "$$\n",
    "\\hat{\\beta}\\sim \\mathcal{N}(\\beta, \\sigma^2(Z^TZ)^{-1}),\\quad (n-p) \\dfrac{\\hat{\\sigma}^2}{\\sigma^2} \\sim \\chi^2(n-p) \n",
    "$$"
   ]
  },
  {
   "cell_type": "markdown",
   "id": "c1a07ce2",
   "metadata": {},
   "source": [
    "$\\textbf{15.}$ Pour $x\\in\\mathbb{R}^p$, $x^T\\hat{\\beta}\\sim \\mathcal{N}(x^T\\beta, \\sigma^2 x^T(Z^T Z)^{-1}x)$ \\\n",
    "On a donc $\\dfrac{x^T\\hat{\\beta}-x^T\\beta}{\\sigma \\sqrt{x^T(Z^T Z)^{-1}x}}\\sim \\mathcal{N}(0,1)$ \\\n",
    "$(n-p)\\dfrac{\\hat{\\sigma}}{\\sigma} \\sim \\chi^2(n-p)$ \\\n",
    "Ces deux variables aléatoires sont indépendantes, d'où $\\dfrac{x^T\\hat{\\beta}-x^T\\beta}{\\hat{\\sigma} \\sqrt{x^T(Z^T Z)^{-1}x}}$ est une loi de Student à $n-p$ degrés de libertés."
   ]
  },
  {
   "cell_type": "markdown",
   "id": "388be671",
   "metadata": {},
   "source": [
    "$\\textbf{16.}$ Soit $t_{n-p}\\left(1-\\dfrac{\\alpha}{2}\\right)$ le quartile de $1-\\dfrac{\\alpha}{2}$ pour la loi de Student à $n-p$ degrés de libertés, alors comme la loi de Student est symétrique par rapport à 0 : \\\n",
    "$1-\\alpha = \\mathbb{P}_\\theta \\left(W\\in \\left[-t_{n-p}\\left(1-\\dfrac{\\alpha}{2}\\right), t_{n-p}\\left(1-\\dfrac{\\alpha}{2}\\right)\\right]\\right)$ avec $W$ de Student à $n-p$ degrés de libertés. \\\n",
    "$$\\left[ x^T\\hat{\\beta} -t_{n-p}\\left(1-\\dfrac{\\alpha}{2}\\right)\\hat{\\sigma} \\sqrt{x^T(Z^T Z)^{-1}x} , \\quad x^T\\hat{\\beta} + t_{n-p}\\left(1-\\dfrac{\\alpha}{2}\\right)\\hat{\\sigma} \\sqrt{x^T(Z^T Z)^{-1}x} \\right]$$ \n",
    "est donc un intervalle de confiance de niveau $1-\\alpha$ pour $x^T\\beta$."
   ]
  },
  {
   "cell_type": "markdown",
   "id": "8ed747d0",
   "metadata": {},
   "source": [
    "$\\textbf{17.}$ On peut prendre le test $\\phi_\\alpha$ tel que $\\phi_\\alpha(z)=1$ si $z \\not\\in \\left[ x^T\\hat{\\beta} -t_{n-p}\\left(1-\\dfrac{\\alpha}{2}\\right)\\hat{\\sigma} \\sqrt{x^T(Z^T Z)^{-1}x}, x^T\\hat{\\beta} + t_{n-p}\\left(1-\\dfrac{\\alpha}{2}\\right)\\hat{\\sigma} \\sqrt{x^T(Z^T Z)^{-1}x} \\right]$ et vaut $0$ sinon. \\\n",
    "Dans ce cas, $\\Theta_0 = \\{ 0\\} $ et \n",
    "$\\mathbb{P}_0 \\left( 0 \\not\\in \\left[ x^T\\hat{\\beta} -t_{n-p}\\left(1-\\dfrac{\\alpha}{2}\\right)\\hat{\\sigma} \\sqrt{x^T(Z^T Z)^{-1}x}, x^T\\hat{\\beta} + t_{n-p}\\left(1-\\dfrac{\\alpha}{2}\\right)\\hat{\\sigma} \\sqrt{x^T(Z^T Z)^{-1}x} \\right]\\right) = \\alpha$ \\\n",
    "Le test est donc bien de niveau $\\alpha$"
   ]
  },
  {
   "cell_type": "markdown",
   "id": "4388bcbe",
   "metadata": {},
   "source": [
    "$\\textbf{18.}$ $$\\left( 0 \\in \\left[ x^T\\hat{\\beta} -t_{n-p}\\left(1-\\dfrac{\\alpha}{2}\\right)\\hat{\\sigma} \\sqrt{x^T(Z^T Z)^{-1}x}, x^T\\hat{\\beta} + t_{n-p}\\left(1-\\dfrac{\\alpha}{2}\\right)\\hat{\\sigma} \\sqrt{x^T(Z^T Z)^{-1}x} \\right]\\right) = \\left( | x^T\\hat{\\beta} | \\leq t_{n-p}\\left(1-\\dfrac{\\alpha}{2} \\right)\\hat{\\sigma} \\sqrt{x^T(Z^T Z)^{-1}x} \\right)$$ qui est un ensemble décroissant pour l'inclusion en fonction de $\\alpha$. \\\n",
    "la p-valeur $\\hat{\\alpha}$ vérifie alors : $t_{n-p}\\left(1-\\dfrac{\\hat\\alpha}{2}\\right) = \\dfrac{| x^T\\hat{\\beta} |}{\\hat{\\sigma} \\sqrt{x^T(Z^T Z)^{-1}x}}$ \\\n",
    "Avec $F_{n-p}$ la fonction de répartition de la loi de Student à n-p degrés de libertés, on a : \\\n",
    "$$\\hat\\alpha = 2-2 F_{n-p}\\left( \\dfrac{| x^T\\hat{\\beta} |}{\\hat{\\sigma} \\sqrt{x^T(Z^T Z)^{-1}x}} \\right)$$"
   ]
  },
  {
   "cell_type": "markdown",
   "id": "64a1e56d",
   "metadata": {},
   "source": [
    "$\\textbf{19.}$ On sait que, sous $\\mathbb{P}_\\theta$\n",
    "    $$\\hat\\beta-\\beta \\sim \\mathcal{N}(0,\\sigma^2(Z^TZ)^{-1})$$\n",
    "    Soit $A$ une matrice de talle $q\\times p$ de range $q<p$\n",
    "    \\\\Donc \n",
    "    $$A(\\hat\\beta-\\beta) \\sim \\mathcal{N}(0,\\sigma^2A(Z^TZ)^{-1})$$\n",
    "    Comme $A(Z^TZ)^{-1}A^T$ est symétrique définie positive et admet une racine carré inversible alors \n",
    "    $$\\frac{1}{\\sigma}\\left(A\\left(Z^{\\top} Z\\right)^{-1} A^{T}\\right)^{-\\frac{1}{2}} A(\\hat{\\beta}-\\beta) \\sim N\\left(O, I_{q}\\right)$$\n",
    "    D'après la définition IV-3.14, on a \n",
    "    $$\\frac{1}{\\sigma^{2}}\\left\\{\\left(A\\left(Z^{T}Z\\right)^{-1} A^{T}\\right)^{-\\frac{1}{2}} A(\\hat{\\beta}-\\beta)\\right\\}^{T}\\left\\{\\left(A\\left(Z^{T} Z\\right)^{-1} A^{T}\\right)^{-\\frac{1}{2}} A(\\hat{\\beta}-\\beta)\\right\\} \\sim \\chi^{2}(q)$$\n",
    "    Donc $$\\frac{1}{\\sigma^{2}}\\{A(\\hat{\\beta}-\\beta)\\}^{\\top}\\left(A\\left(Z^{\\top} Z\\right)^{-1} A^{\\top}\\right)^{-1}\\{A(\\hat{\\beta}-\\beta)\\} \\sim x^{2}(q)$$\n",
    "    De plus $$\\frac{(n-p)\\hat\\sigma^2}{\\sigma^2} \\sim \\chi(n-p)$$\n",
    "    D'après la définition IV-3.26, on a donc \n",
    "    $$\n",
    "\\frac{1}{q \\hat{\\sigma}^{2}}\\{A(\\hat{\\boldsymbol{\\beta}}-\\boldsymbol{\\beta})\\}^{T}\\left[A\\left(\\mathbf{Z}^{T} \\mathbf{Z}\\right)^{-1} A^{T}\\right]^{-1}\\{A(\\hat{\\boldsymbol{\\beta}}-\\boldsymbol{\\beta})\\}\n",
    "$$\n",
    "suit une loi de Fisher à $(q, n-p)$ degrés de liberté."
   ]
  },
  {
   "cell_type": "markdown",
   "id": "a089acbe",
   "metadata": {},
   "source": [
    "$\\textbf{20.}$ Regions de Confiance de $ (\\beta_1, \\beta_2)$\n",
    "$$\\Phi: inf_\\theta[\\mathbb{P}(Z\\in C(z)) \\geq 1-\\alpha]$$ \n",
    "\n",
    "Determinons $C(z)$ tel que $C:Z\\rightarrow B(\\mathbb{R}^p).$\n",
    "\n",
    "Soit $t_\\bar{q,n-p} (1-\\alpha)$ le quantile d'ordre $1-\\alpha$ de la loi de Fisher à $(q,n-p)$ degré de liberté. \n",
    "\n",
    "On a donc $$\\mathbb{P}\\left(\\frac{1}{q \\hat{\\sigma}^{2}}\\{A(\\hat{\\boldsymbol{\\beta}}-\\boldsymbol{\\beta})\\}^{T}\\left[A\\left(\\mathbf{Z}^{T} \\mathbf{Z}\\right)^{-1} A^{T}\\right]^{-1}\\{A(\\hat{\\boldsymbol{\\beta}}-\\boldsymbol{\\beta})\\}\\leq t_{q,n-p}(1-\\alpha)\\right) = 1-\\alpha$$\n",
    "Ainsi $$C(Z)= \\{ \\beta\\in\\mathbb{R}^p, \\frac{1}{q \\hat{\\sigma}^{2}}\\{A(\\hat{\\boldsymbol{\\beta}}-\\boldsymbol{\\beta})\\}^{T}\\left[A\\left(\\mathbf{Z}^{T} \\mathbf{Z}\\right)^{-1} A^{T}\\right]^{-1}\\{A(\\hat{\\boldsymbol{\\beta}}-\\boldsymbol{\\beta})\\} \\leq t_{q,n-p}\\}$$"
   ]
  },
  {
   "cell_type": "markdown",
   "id": "5d3c635f",
   "metadata": {},
   "source": [
    "# Partie pratique"
   ]
  },
  {
   "cell_type": "markdown",
   "id": "fec335ea",
   "metadata": {},
   "source": [
    "La variable à expliquer est la concentration en ozone notée $O3$ et les variables explicatives\n",
    "sont la température notée $T12$, le vent noté $Vx$ et la nébulosité notée $Ne12$. Nous rajouterons\n",
    "dans la matrice de régression le vecteur constant $(1, · · · , 1)^T$ que nous appelons intercept.\n"
   ]
  },
  {
   "cell_type": "markdown",
   "id": "863b26d9",
   "metadata": {},
   "source": [
    "## 1. Estimer l'estimateur des moindres carées du paramètre"
   ]
  },
  {
   "cell_type": "markdown",
   "id": "40096832",
   "metadata": {},
   "source": [
    "Suivons la question de partie $1.1$, on a Estimation par moindres carrées du vecteur $\\beta$ est:\n",
    "\n",
    "$$\n",
    "\\hat{\\beta} = (Z^TZ)^{-1}Z^TY\n",
    "$$\n",
    "\n",
    "Estimateur pour $\\sigma^2$ est :\n",
    "\n",
    "$$\n",
    "\\hat{σ}^2 := \\left(\\dfrac{\\| Y - Z\\hat{\\beta} \\|^2}{n-p} \\right)\n",
    "$$\n",
    "\n",
    "\n",
    "où $\\hat{\\beta}$ est l'estimateur des moindres carrés, $Z$ est la matrice de conception qui contient les variables explicatives et le vecteur d'interception, et $Y$ est le vecteur de la variable à expliquer.\n",
    "\n",
    "Dans notre cas, la matrice de conception $Z$ serait :\n",
    "\n",
    "$$\n",
    "Z = \\begin{bmatrix}\n",
    "1 & T12_1 & Vx_1 & Ne12_1 \\\\\n",
    "1 & T12_2 & Vx_2 & Ne12_2 \\\\\n",
    "\\vdots & \\vdots & \\vdots & \\vdots \\\\\n",
    "1 & T12_n & Vx_n & Ne12_n\n",
    "\\end{bmatrix}\n",
    "$$\n",
    "\n",
    "où $n$ est le nombre d'observations.\n",
    "\n",
    "Le vecteur $Y$ serait :\n",
    "\n",
    "$$\n",
    "Y = \\begin{bmatrix}\n",
    "O3_1 \\\\\n",
    "O3_2 \\\\\n",
    "\\vdots \\\\\n",
    "O3_n\n",
    "\\end{bmatrix}\n",
    "$$\n"
   ]
  },
  {
   "cell_type": "markdown",
   "id": "0e9f7e0e",
   "metadata": {},
   "source": [
    "### import les modules"
   ]
  },
  {
   "cell_type": "code",
   "execution_count": 96,
   "id": "b2e9aa16",
   "metadata": {},
   "outputs": [],
   "source": [
    "import numpy as np\n",
    "import pandas as pd\n",
    "import matplotlib.pyplot as plt \n",
    "from scipy.stats import t\n",
    "from IPython.display import display, Latex"
   ]
  },
  {
   "cell_type": "markdown",
   "id": "6a6f2397",
   "metadata": {},
   "source": [
    "### Lire file"
   ]
  },
  {
   "cell_type": "code",
   "execution_count": 97,
   "id": "add41423",
   "metadata": {
    "scrolled": false
   },
   "outputs": [
    {
     "data": {
      "text/html": [
       "<div>\n",
       "<style scoped>\n",
       "    .dataframe tbody tr th:only-of-type {\n",
       "        vertical-align: middle;\n",
       "    }\n",
       "\n",
       "    .dataframe tbody tr th {\n",
       "        vertical-align: top;\n",
       "    }\n",
       "\n",
       "    .dataframe thead th {\n",
       "        text-align: right;\n",
       "    }\n",
       "</style>\n",
       "<table border=\"1\" class=\"dataframe\">\n",
       "  <thead>\n",
       "    <tr style=\"text-align: right;\">\n",
       "      <th></th>\n",
       "      <th>maxO3</th>\n",
       "      <th>T6</th>\n",
       "      <th>T9</th>\n",
       "      <th>T12</th>\n",
       "      <th>T15</th>\n",
       "      <th>T18</th>\n",
       "      <th>Ne6</th>\n",
       "      <th>Ne9</th>\n",
       "      <th>Ne12</th>\n",
       "      <th>Ne15</th>\n",
       "      <th>...</th>\n",
       "      <th>Vdir9</th>\n",
       "      <th>Vvit9</th>\n",
       "      <th>Vdir12</th>\n",
       "      <th>Vvit12</th>\n",
       "      <th>Vdir15</th>\n",
       "      <th>Vvit15</th>\n",
       "      <th>Vdir18</th>\n",
       "      <th>Vvit18</th>\n",
       "      <th>Vx</th>\n",
       "      <th>maxO3v</th>\n",
       "    </tr>\n",
       "  </thead>\n",
       "  <tbody>\n",
       "    <tr>\n",
       "      <th>19950401</th>\n",
       "      <td>47.6</td>\n",
       "      <td>10.1</td>\n",
       "      <td>11.6</td>\n",
       "      <td>13.3</td>\n",
       "      <td>13.6</td>\n",
       "      <td>12.2</td>\n",
       "      <td>8.0</td>\n",
       "      <td>8.0</td>\n",
       "      <td>8.0</td>\n",
       "      <td>8.0</td>\n",
       "      <td>...</td>\n",
       "      <td>290.0</td>\n",
       "      <td>4.0</td>\n",
       "      <td>300.0</td>\n",
       "      <td>4.0</td>\n",
       "      <td>340.0</td>\n",
       "      <td>4.0</td>\n",
       "      <td>20.0</td>\n",
       "      <td>4.0</td>\n",
       "      <td>-3.4641</td>\n",
       "      <td>62.2</td>\n",
       "    </tr>\n",
       "    <tr>\n",
       "      <th>19950402</th>\n",
       "      <td>56.2</td>\n",
       "      <td>9.5</td>\n",
       "      <td>9.4</td>\n",
       "      <td>13.8</td>\n",
       "      <td>17.4</td>\n",
       "      <td>16.3</td>\n",
       "      <td>8.0</td>\n",
       "      <td>8.0</td>\n",
       "      <td>7.0</td>\n",
       "      <td>0.0</td>\n",
       "      <td>...</td>\n",
       "      <td>160.0</td>\n",
       "      <td>2.0</td>\n",
       "      <td>180.0</td>\n",
       "      <td>3.0</td>\n",
       "      <td>110.0</td>\n",
       "      <td>1.0</td>\n",
       "      <td>350.0</td>\n",
       "      <td>2.0</td>\n",
       "      <td>0.0000</td>\n",
       "      <td>47.6</td>\n",
       "    </tr>\n",
       "    <tr>\n",
       "      <th>19950403</th>\n",
       "      <td>61.8</td>\n",
       "      <td>3.6</td>\n",
       "      <td>8.0</td>\n",
       "      <td>16.8</td>\n",
       "      <td>21.5</td>\n",
       "      <td>20.2</td>\n",
       "      <td>4.0</td>\n",
       "      <td>5.0</td>\n",
       "      <td>2.0</td>\n",
       "      <td>2.0</td>\n",
       "      <td>...</td>\n",
       "      <td>20.0</td>\n",
       "      <td>2.0</td>\n",
       "      <td>340.0</td>\n",
       "      <td>1.0</td>\n",
       "      <td>170.0</td>\n",
       "      <td>2.0</td>\n",
       "      <td>170.0</td>\n",
       "      <td>3.0</td>\n",
       "      <td>-0.3420</td>\n",
       "      <td>56.2</td>\n",
       "    </tr>\n",
       "    <tr>\n",
       "      <th>19950404</th>\n",
       "      <td>50.8</td>\n",
       "      <td>9.5</td>\n",
       "      <td>10.5</td>\n",
       "      <td>11.4</td>\n",
       "      <td>12.2</td>\n",
       "      <td>11.4</td>\n",
       "      <td>8.0</td>\n",
       "      <td>7.0</td>\n",
       "      <td>7.0</td>\n",
       "      <td>7.0</td>\n",
       "      <td>...</td>\n",
       "      <td>10.0</td>\n",
       "      <td>4.0</td>\n",
       "      <td>350.0</td>\n",
       "      <td>3.0</td>\n",
       "      <td>350.0</td>\n",
       "      <td>3.0</td>\n",
       "      <td>350.0</td>\n",
       "      <td>4.0</td>\n",
       "      <td>-0.5209</td>\n",
       "      <td>61.8</td>\n",
       "    </tr>\n",
       "    <tr>\n",
       "      <th>19950405</th>\n",
       "      <td>59.8</td>\n",
       "      <td>9.8</td>\n",
       "      <td>10.8</td>\n",
       "      <td>13.8</td>\n",
       "      <td>14.3</td>\n",
       "      <td>13.3</td>\n",
       "      <td>8.0</td>\n",
       "      <td>7.0</td>\n",
       "      <td>8.0</td>\n",
       "      <td>8.0</td>\n",
       "      <td>...</td>\n",
       "      <td>340.0</td>\n",
       "      <td>2.0</td>\n",
       "      <td>280.0</td>\n",
       "      <td>1.0</td>\n",
       "      <td>320.0</td>\n",
       "      <td>3.0</td>\n",
       "      <td>350.0</td>\n",
       "      <td>4.0</td>\n",
       "      <td>-0.9848</td>\n",
       "      <td>50.8</td>\n",
       "    </tr>\n",
       "  </tbody>\n",
       "</table>\n",
       "<p>5 rows × 23 columns</p>\n",
       "</div>"
      ],
      "text/plain": [
       "          maxO3    T6    T9   T12   T15   T18  Ne6  Ne9  Ne12  Ne15  ...  \\\n",
       "19950401   47.6  10.1  11.6  13.3  13.6  12.2  8.0  8.0   8.0   8.0  ...   \n",
       "19950402   56.2   9.5   9.4  13.8  17.4  16.3  8.0  8.0   7.0   0.0  ...   \n",
       "19950403   61.8   3.6   8.0  16.8  21.5  20.2  4.0  5.0   2.0   2.0  ...   \n",
       "19950404   50.8   9.5  10.5  11.4  12.2  11.4  8.0  7.0   7.0   7.0  ...   \n",
       "19950405   59.8   9.8  10.8  13.8  14.3  13.3  8.0  7.0   8.0   8.0  ...   \n",
       "\n",
       "          Vdir9  Vvit9  Vdir12  Vvit12  Vdir15  Vvit15  Vdir18  Vvit18  \\\n",
       "19950401  290.0    4.0   300.0     4.0   340.0     4.0    20.0     4.0   \n",
       "19950402  160.0    2.0   180.0     3.0   110.0     1.0   350.0     2.0   \n",
       "19950403   20.0    2.0   340.0     1.0   170.0     2.0   170.0     3.0   \n",
       "19950404   10.0    4.0   350.0     3.0   350.0     3.0   350.0     4.0   \n",
       "19950405  340.0    2.0   280.0     1.0   320.0     3.0   350.0     4.0   \n",
       "\n",
       "              Vx  maxO3v  \n",
       "19950401 -3.4641    62.2  \n",
       "19950402  0.0000    47.6  \n",
       "19950403 -0.3420    56.2  \n",
       "19950404 -0.5209    61.8  \n",
       "19950405 -0.9848    50.8  \n",
       "\n",
       "[5 rows x 23 columns]"
      ]
     },
     "execution_count": 97,
     "metadata": {},
     "output_type": "execute_result"
    }
   ],
   "source": [
    "df = pd.read_csv('ozone_complet.txt',delimiter=';').dropna() #import file from txt file\n",
    "df.head() # read file"
   ]
  },
  {
   "cell_type": "code",
   "execution_count": 98,
   "id": "e2c7193d",
   "metadata": {},
   "outputs": [
    {
     "data": {
      "text/latex": [
       "$\\hat{\\beta} = (Z^TZ)^{-1}Z^TY \\quad est: $"
      ],
      "text/plain": [
       "<IPython.core.display.Latex object>"
      ]
     },
     "metadata": {},
     "output_type": "display_data"
    },
    {
     "name": "stdout",
     "output_type": "stream",
     "text": [
      "[[73.73485559]\n",
      " [ 1.53554077]\n",
      " [ 1.32091586]\n",
      " [-3.30686121]]\n",
      "Intercept: \n"
     ]
    },
    {
     "data": {
      "text/latex": [
       "$\\hat{\\beta}_0 = 73.735$"
      ],
      "text/plain": [
       "<IPython.core.display.Latex object>"
      ]
     },
     "metadata": {},
     "output_type": "display_data"
    },
    {
     "name": "stdout",
     "output_type": "stream",
     "text": [
      "Pour de Température: \n"
     ]
    },
    {
     "data": {
      "text/latex": [
       "$\\hat{\\beta}_1 = 1.536$"
      ],
      "text/plain": [
       "<IPython.core.display.Latex object>"
      ]
     },
     "metadata": {},
     "output_type": "display_data"
    },
    {
     "name": "stdout",
     "output_type": "stream",
     "text": [
      "Pour de Vent: \n"
     ]
    },
    {
     "data": {
      "text/latex": [
       "$\\hat{\\beta}_2 = 1.321$"
      ],
      "text/plain": [
       "<IPython.core.display.Latex object>"
      ]
     },
     "metadata": {},
     "output_type": "display_data"
    },
    {
     "name": "stdout",
     "output_type": "stream",
     "text": [
      "Pour de Nébulosité: \n"
     ]
    },
    {
     "data": {
      "text/latex": [
       "$\\hat{\\beta}_3 = -3.307$"
      ],
      "text/plain": [
       "<IPython.core.display.Latex object>"
      ]
     },
     "metadata": {},
     "output_type": "display_data"
    },
    {
     "data": {
      "text/latex": [
       "$\\hat{\\sigma}^2 := \\left(\\dfrac{\\| Y - Z\\hat{\\beta} \\|^2}{n-p} \\right)$"
      ],
      "text/plain": [
       "<IPython.core.display.Latex object>"
      ]
     },
     "metadata": {},
     "output_type": "display_data"
    },
    {
     "data": {
      "text/latex": [
       "$\\hat{\\sigma}^2 = 299.453$"
      ],
      "text/plain": [
       "<IPython.core.display.Latex object>"
      ]
     },
     "metadata": {},
     "output_type": "display_data"
    }
   ],
   "source": [
    "# le vecteur de variable explicative\n",
    "Y = np.matrix(df[\"maxO3\"]).transpose()\n",
    "\n",
    "# la coulone intercept [1,...,1]^T \n",
    "intercept = pd.Series(data = np.ones(df[\"maxO3\"].size),index = df[\"maxO3\"].index)\n",
    "\n",
    "# la matrice de régression\n",
    "Z_T = np.matrix((intercept,df[\"T12\"],df[\"Vx\"],df[\"Ne12\"]))\n",
    "Z = Z_T.transpose()\n",
    "\n",
    "#Estimation par moindres carrés du vecteur \\beta\n",
    "B_chapo = (np.linalg.inv(Z_T*Z))*Z_T*Y\n",
    "display(Latex(\"$\\\\hat{\\\\beta} = (Z^TZ)^{-1}Z^TY \\quad est: $\"))\n",
    "print(B_chapo)\n",
    "\n",
    "\n",
    "\n",
    "\n",
    "#Estimation de la variance  σ^2\n",
    "SSE = np.linalg.norm(Y - Z*B_chapo)**2\n",
    "σ2_chapo = SSE/(Z.shape[0] - Z.shape[1]) # Z.shape[0]= n ,Z.shape[1]=p\n",
    "\n",
    "\n",
    "print(\"Intercept: \")\n",
    "display(Latex(f\"$\\\\hat{{\\\\beta}}_0 = {B_chapo.item(0):.3f}$\"))\n",
    "print(\"Pour de Température: \")\n",
    "display(Latex(f\"$\\\\hat{{\\\\beta}}_1 = {B_chapo.item(1):.3f}$\"))\n",
    "print(\"Pour de Vent: \")\n",
    "display(Latex(f\"$\\\\hat{{\\\\beta}}_2 = {B_chapo.item(2):.3f}$\"))\n",
    "print(\"Pour de Nébulosité: \")\n",
    "display(Latex(f\"$\\\\hat{{\\\\beta}}_3 = {B_chapo.item(3):.3f}$\"))\n",
    "        \n",
    "display(Latex(\"$\\\\hat{\\\\sigma}^2 := \\\\left(\\\\dfrac{\\\\| Y - Z\\\\hat{\\\\beta} \\\\|^2}{n-p} \\\\right)$\"))\n",
    "display(Latex(f\"$\\\\hat{{\\\\sigma}}^2 = {σ2_chapo.item(0):.3f}$\"))\n"
   ]
  },
  {
   "cell_type": "markdown",
   "id": "9895b53c",
   "metadata": {},
   "source": [
    "## 2. Déterminer les intervalles de confiance bilatères à 95% pour chaque valeur des paramètres"
   ]
  },
  {
   "cell_type": "markdown",
   "id": "4e2e412d",
   "metadata": {},
   "source": [
    "L'intervalle de confiance biatéral de niveau de couverture $1-\\alpha$ pour $\\beta^Tx$ est :\n",
    "$$\n",
    "\\left[ x^T\\hat{\\beta} -t_{n-p}\\left(1-\\dfrac{\\alpha}{2}\\right)\\hat{\\sigma} \\sqrt{x^T(Z^T Z)^{-1}x}  , \\quad x^T\\hat{\\beta} + t_{n-p}\\left(1-\\dfrac{\\alpha}{2}\\right)\\hat{\\sigma} \\sqrt{x^T(Z^T Z)^{-1}x} \\right]\n",
    "$$\n",
    "\n",
    "Où $x \\in \\mathbb{R}^p$. Donc pour trouver l'intervalle de confiance pour $\\beta_i$, on peut choisir $x_i$ in base canonique de $\\mathbb{R}^p$ car $\\beta^Tx_i = \\beta_i$\n",
    "\n",
    "Pour notre exercise $\\alpha = 0.05$ "
   ]
  },
  {
   "cell_type": "code",
   "execution_count": 99,
   "id": "93a0cab1",
   "metadata": {},
   "outputs": [
    {
     "data": {
      "text/latex": [
       "Intervalles de Confiance Bilatères à $95\\%$: "
      ],
      "text/plain": [
       "<IPython.core.display.Latex object>"
      ]
     },
     "metadata": {},
     "output_type": "display_data"
    },
    {
     "data": {
      "text/latex": [
       "$\\mathbb{P}_{\\theta}[\\beta_0 \\in [-30.6034, 178.0731]] = 95\\% $"
      ],
      "text/plain": [
       "<IPython.core.display.Latex object>"
      ]
     },
     "metadata": {},
     "output_type": "display_data"
    },
    {
     "data": {
      "text/latex": [
       "$\\mathbb{P}_{\\theta}[\\beta_1 \\in [-2.2511, 5.3222]] = 95\\% $"
      ],
      "text/plain": [
       "<IPython.core.display.Latex object>"
      ]
     },
     "metadata": {},
     "output_type": "display_data"
    },
    {
     "data": {
      "text/latex": [
       "$\\mathbb{P}_{\\theta}[\\beta_2 \\in [-3.7896, 6.4315]] = 95\\% $"
      ],
      "text/plain": [
       "<IPython.core.display.Latex object>"
      ]
     },
     "metadata": {},
     "output_type": "display_data"
    },
    {
     "data": {
      "text/latex": [
       "$\\mathbb{P}_{\\theta}[\\beta_3 \\in [-11.8748, 5.2610]] = 95\\% $"
      ],
      "text/plain": [
       "<IPython.core.display.Latex object>"
      ]
     },
     "metadata": {},
     "output_type": "display_data"
    }
   ],
   "source": [
    "alpha = 0.05\n",
    "# On choisis x_i in base canonique de R^p, where p = 4\n",
    "x_0 = np.matrix([1,0,0,0]).T\n",
    "x_1 = np.matrix([0,1,0,0]).T\n",
    "x_2 = np.matrix([0,0,1,0]).T\n",
    "x_3 = np.matrix([0,0,0,1]).T\n",
    "X = np.hstack((x_0, x_1, x_2, x_3))\n",
    "\n",
    "\n",
    "\n",
    "\n",
    "\n",
    "Invers = np.linalg.inv(Z_T*Z) # calcul(Z^TZ)^{-1}\n",
    "\n",
    "\n",
    "\n",
    "#Utilisons t.ppf pour trouver t_{n-p}(1-\\alpha/2)\n",
    "t_np = t.ppf(1 - alpha / 2, Z.shape[0] - Z.shape[1]) # Z.shape[0] - Z.shape[1]\n",
    "\n",
    "#Calculer intervalle de confiance de \\beta_i \n",
    "display(Latex(\"Intervalles de Confiance Bilatères à $95\\\\%$: \"))\n",
    "for i in range(4):\n",
    "    a = (np.array(X[i]) * B_chapo) - (t_np * σ2_chapo) * np.sqrt(np.array(X[i]) * Invers * (np.array(X[i]).T))\n",
    "    b = (np.array(X[i]) * B_chapo) + (t_np * σ2_chapo) * np.sqrt(np.array(X[i]) * Invers * (np.array(X[i]).T))\n",
    "    \n",
    "    a = np.array(a)\n",
    "    b = np.array(b)\n",
    "    display(Latex(f\"$\\\\mathbb{{P}}_{{\\\\theta}}[\\\\beta_{i} \\\\in [{a[0][0]:.4f}, {b[0][0]:.4f}]] = 95\\\\% $\"))\n",
    "    \n"
   ]
  },
  {
   "cell_type": "markdown",
   "id": "930ee13d",
   "metadata": {},
   "source": [
    "## 3. Visualiser les régions de confiance à 95 % pour $(β_1, β_2)$ et $(β_1, β_3)$."
   ]
  },
  {
   "cell_type": "code",
   "execution_count": null,
   "id": "db9fd34c",
   "metadata": {},
   "outputs": [],
   "source": []
  },
  {
   "cell_type": "markdown",
   "id": "57466033",
   "metadata": {},
   "source": [
    "Nous cherchons à répondre aux questions suivantes :\n"
   ]
  },
  {
   "cell_type": "markdown",
   "id": "37f006a6",
   "metadata": {},
   "source": [
    "## (i) est-ce que la valeur de O3 est influencée par Vx ?"
   ]
  },
  {
   "cell_type": "code",
   "execution_count": null,
   "id": "f3ac3c7e",
   "metadata": {},
   "outputs": [],
   "source": []
  },
  {
   "cell_type": "markdown",
   "id": "f74c56ed",
   "metadata": {},
   "source": [
    "## (ii) y a-t-il un effet nébulosité ?"
   ]
  },
  {
   "cell_type": "code",
   "execution_count": null,
   "id": "2c3ccf8b",
   "metadata": {},
   "outputs": [],
   "source": []
  },
  {
   "cell_type": "markdown",
   "id": "9211d9a8",
   "metadata": {},
   "source": [
    "## (iii) est-ce que la valeur de O3 est influencée par Vx ou T12 ?"
   ]
  },
  {
   "cell_type": "code",
   "execution_count": null,
   "id": "cefbba8f",
   "metadata": {},
   "outputs": [],
   "source": []
  },
  {
   "cell_type": "markdown",
   "id": "512ae12b",
   "metadata": {},
   "source": [
    "## 4. Formuler les différentes questions comme des tests d’hypothèses.\n"
   ]
  },
  {
   "cell_type": "code",
   "execution_count": null,
   "id": "e06016e6",
   "metadata": {},
   "outputs": [],
   "source": []
  },
  {
   "cell_type": "markdown",
   "id": "13b3ab0a",
   "metadata": {},
   "source": [
    "## 5. Construire des procédures de tests pour ces trois hypothèses."
   ]
  },
  {
   "cell_type": "code",
   "execution_count": null,
   "id": "9a9f0c97",
   "metadata": {},
   "outputs": [],
   "source": []
  },
  {
   "cell_type": "markdown",
   "id": "5a34015c",
   "metadata": {},
   "source": [
    "## 6. Conclure."
   ]
  },
  {
   "cell_type": "code",
   "execution_count": null,
   "id": "c0ffa63a",
   "metadata": {},
   "outputs": [],
   "source": []
  }
 ],
 "metadata": {
  "kernelspec": {
   "display_name": "Python 3 (ipykernel)",
   "language": "python",
   "name": "python3"
  },
  "language_info": {
   "codemirror_mode": {
    "name": "ipython",
    "version": 3
   },
   "file_extension": ".py",
   "mimetype": "text/x-python",
   "name": "python",
   "nbconvert_exporter": "python",
   "pygments_lexer": "ipython3",
   "version": "3.9.13"
  }
 },
 "nbformat": 4,
 "nbformat_minor": 5
}
