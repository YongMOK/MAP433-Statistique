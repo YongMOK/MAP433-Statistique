{
 "cells": [
  {
   "cell_type": "markdown",
   "metadata": {
    "id": "Gddi8Hqjp1Bq"
   },
   "source": [
    "# DM2 - MAP433"
   ]
  },
  {
   "cell_type": "markdown",
   "metadata": {
    "id": "Na1hsPaAqV7l"
   },
   "source": [
    "## Importation des librairies"
   ]
  },
  {
   "cell_type": "code",
   "execution_count": 1,
   "metadata": {
    "executionInfo": {
     "elapsed": 2882,
     "status": "ok",
     "timestamp": 1697647853174,
     "user": {
      "displayName": "Coralie Tonle",
      "userId": "08477084319234187105"
     },
     "user_tz": -120
    },
    "id": "8ZiD4zCBp9NI"
   },
   "outputs": [],
   "source": [
    "import numpy as np\n",
    "import matplotlib.pyplot as plt\n",
    "import numpy.random as npr\n",
    "import scipy.stats as sps\n",
    "import pandas as pd\n",
    "from sklearn.preprocessing import StandardScaler"
   ]
  },
  {
   "cell_type": "markdown",
   "metadata": {
    "id": "5mB5WwSatNER"
   },
   "source": [
    "### Importation du dataset"
   ]
  },
  {
   "cell_type": "code",
   "execution_count": 10,
   "metadata": {
    "colab": {
     "base_uri": "https://localhost:8080/",
     "height": 504
    },
    "executionInfo": {
     "elapsed": 235,
     "status": "ok",
     "timestamp": 1697649532740,
     "user": {
      "displayName": "Coralie Tonle",
      "userId": "08477084319234187105"
     },
     "user_tz": -120
    },
    "id": "9QoFX5PwrDMj",
    "outputId": "1576229c-4ee6-49dd-bf98-0edc9ada10d6"
   },
   "outputs": [
    {
     "data": {
      "text/html": [
       "\n",
       "  <div id=\"df-9e6a6759-73d6-4e74-8291-c560604411e2\" class=\"colab-df-container\">\n",
       "    <div>\n",
       "<style scoped>\n",
       "    .dataframe tbody tr th:only-of-type {\n",
       "        vertical-align: middle;\n",
       "    }\n",
       "\n",
       "    .dataframe tbody tr th {\n",
       "        vertical-align: top;\n",
       "    }\n",
       "\n",
       "    .dataframe thead th {\n",
       "        text-align: right;\n",
       "    }\n",
       "</style>\n",
       "<table border=\"1\" class=\"dataframe\">\n",
       "  <thead>\n",
       "    <tr style=\"text-align: right;\">\n",
       "      <th></th>\n",
       "      <th>PassengerId</th>\n",
       "      <th>Survived</th>\n",
       "      <th>Pclass</th>\n",
       "      <th>Name</th>\n",
       "      <th>Sex</th>\n",
       "      <th>Age</th>\n",
       "      <th>SibSp</th>\n",
       "      <th>Parch</th>\n",
       "      <th>Ticket</th>\n",
       "      <th>Fare</th>\n",
       "      <th>Cabin</th>\n",
       "      <th>Embarked</th>\n",
       "    </tr>\n",
       "  </thead>\n",
       "  <tbody>\n",
       "    <tr>\n",
       "      <th>0</th>\n",
       "      <td>1</td>\n",
       "      <td>0</td>\n",
       "      <td>3</td>\n",
       "      <td>Braund, Mr. Owen Harris</td>\n",
       "      <td>male</td>\n",
       "      <td>22.0</td>\n",
       "      <td>1</td>\n",
       "      <td>0</td>\n",
       "      <td>A/5 21171</td>\n",
       "      <td>7.2500</td>\n",
       "      <td>NaN</td>\n",
       "      <td>S</td>\n",
       "    </tr>\n",
       "    <tr>\n",
       "      <th>1</th>\n",
       "      <td>2</td>\n",
       "      <td>1</td>\n",
       "      <td>1</td>\n",
       "      <td>Cumings, Mrs. John Bradley (Florence Briggs Th...</td>\n",
       "      <td>female</td>\n",
       "      <td>38.0</td>\n",
       "      <td>1</td>\n",
       "      <td>0</td>\n",
       "      <td>PC 17599</td>\n",
       "      <td>71.2833</td>\n",
       "      <td>C85</td>\n",
       "      <td>C</td>\n",
       "    </tr>\n",
       "    <tr>\n",
       "      <th>2</th>\n",
       "      <td>3</td>\n",
       "      <td>1</td>\n",
       "      <td>3</td>\n",
       "      <td>Heikkinen, Miss. Laina</td>\n",
       "      <td>female</td>\n",
       "      <td>26.0</td>\n",
       "      <td>0</td>\n",
       "      <td>0</td>\n",
       "      <td>STON/O2. 3101282</td>\n",
       "      <td>7.9250</td>\n",
       "      <td>NaN</td>\n",
       "      <td>S</td>\n",
       "    </tr>\n",
       "    <tr>\n",
       "      <th>3</th>\n",
       "      <td>4</td>\n",
       "      <td>1</td>\n",
       "      <td>1</td>\n",
       "      <td>Futrelle, Mrs. Jacques Heath (Lily May Peel)</td>\n",
       "      <td>female</td>\n",
       "      <td>35.0</td>\n",
       "      <td>1</td>\n",
       "      <td>0</td>\n",
       "      <td>113803</td>\n",
       "      <td>53.1000</td>\n",
       "      <td>C123</td>\n",
       "      <td>S</td>\n",
       "    </tr>\n",
       "    <tr>\n",
       "      <th>4</th>\n",
       "      <td>5</td>\n",
       "      <td>0</td>\n",
       "      <td>3</td>\n",
       "      <td>Allen, Mr. William Henry</td>\n",
       "      <td>male</td>\n",
       "      <td>35.0</td>\n",
       "      <td>0</td>\n",
       "      <td>0</td>\n",
       "      <td>373450</td>\n",
       "      <td>8.0500</td>\n",
       "      <td>NaN</td>\n",
       "      <td>S</td>\n",
       "    </tr>\n",
       "  </tbody>\n",
       "</table>\n",
       "</div>\n",
       "    <div class=\"colab-df-buttons\">\n",
       "\n",
       "  <div class=\"colab-df-container\">\n",
       "    <button class=\"colab-df-convert\" onclick=\"convertToInteractive('df-9e6a6759-73d6-4e74-8291-c560604411e2')\"\n",
       "            title=\"Convert this dataframe to an interactive table.\"\n",
       "            style=\"display:none;\">\n",
       "\n",
       "  <svg xmlns=\"http://www.w3.org/2000/svg\" height=\"24px\" viewBox=\"0 -960 960 960\">\n",
       "    <path d=\"M120-120v-720h720v720H120Zm60-500h600v-160H180v160Zm220 220h160v-160H400v160Zm0 220h160v-160H400v160ZM180-400h160v-160H180v160Zm440 0h160v-160H620v160ZM180-180h160v-160H180v160Zm440 0h160v-160H620v160Z\"/>\n",
       "  </svg>\n",
       "    </button>\n",
       "\n",
       "  <style>\n",
       "    .colab-df-container {\n",
       "      display:flex;\n",
       "      gap: 12px;\n",
       "    }\n",
       "\n",
       "    .colab-df-convert {\n",
       "      background-color: #E8F0FE;\n",
       "      border: none;\n",
       "      border-radius: 50%;\n",
       "      cursor: pointer;\n",
       "      display: none;\n",
       "      fill: #1967D2;\n",
       "      height: 32px;\n",
       "      padding: 0 0 0 0;\n",
       "      width: 32px;\n",
       "    }\n",
       "\n",
       "    .colab-df-convert:hover {\n",
       "      background-color: #E2EBFA;\n",
       "      box-shadow: 0px 1px 2px rgba(60, 64, 67, 0.3), 0px 1px 3px 1px rgba(60, 64, 67, 0.15);\n",
       "      fill: #174EA6;\n",
       "    }\n",
       "\n",
       "    .colab-df-buttons div {\n",
       "      margin-bottom: 4px;\n",
       "    }\n",
       "\n",
       "    [theme=dark] .colab-df-convert {\n",
       "      background-color: #3B4455;\n",
       "      fill: #D2E3FC;\n",
       "    }\n",
       "\n",
       "    [theme=dark] .colab-df-convert:hover {\n",
       "      background-color: #434B5C;\n",
       "      box-shadow: 0px 1px 3px 1px rgba(0, 0, 0, 0.15);\n",
       "      filter: drop-shadow(0px 1px 2px rgba(0, 0, 0, 0.3));\n",
       "      fill: #FFFFFF;\n",
       "    }\n",
       "  </style>\n",
       "\n",
       "    <script>\n",
       "      const buttonEl =\n",
       "        document.querySelector('#df-9e6a6759-73d6-4e74-8291-c560604411e2 button.colab-df-convert');\n",
       "      buttonEl.style.display =\n",
       "        google.colab.kernel.accessAllowed ? 'block' : 'none';\n",
       "\n",
       "      async function convertToInteractive(key) {\n",
       "        const element = document.querySelector('#df-9e6a6759-73d6-4e74-8291-c560604411e2');\n",
       "        const dataTable =\n",
       "          await google.colab.kernel.invokeFunction('convertToInteractive',\n",
       "                                                    [key], {});\n",
       "        if (!dataTable) return;\n",
       "\n",
       "        const docLinkHtml = 'Like what you see? Visit the ' +\n",
       "          '<a target=\"_blank\" href=https://colab.research.google.com/notebooks/data_table.ipynb>data table notebook</a>'\n",
       "          + ' to learn more about interactive tables.';\n",
       "        element.innerHTML = '';\n",
       "        dataTable['output_type'] = 'display_data';\n",
       "        await google.colab.output.renderOutput(dataTable, element);\n",
       "        const docLink = document.createElement('div');\n",
       "        docLink.innerHTML = docLinkHtml;\n",
       "        element.appendChild(docLink);\n",
       "      }\n",
       "    </script>\n",
       "  </div>\n",
       "\n",
       "\n",
       "<div id=\"df-0c2ca5df-3346-42b4-902d-8d22dba12a6a\">\n",
       "  <button class=\"colab-df-quickchart\" onclick=\"quickchart('df-0c2ca5df-3346-42b4-902d-8d22dba12a6a')\"\n",
       "            title=\"Suggest charts.\"\n",
       "            style=\"display:none;\">\n",
       "\n",
       "<svg xmlns=\"http://www.w3.org/2000/svg\" height=\"24px\"viewBox=\"0 0 24 24\"\n",
       "     width=\"24px\">\n",
       "    <g>\n",
       "        <path d=\"M19 3H5c-1.1 0-2 .9-2 2v14c0 1.1.9 2 2 2h14c1.1 0 2-.9 2-2V5c0-1.1-.9-2-2-2zM9 17H7v-7h2v7zm4 0h-2V7h2v10zm4 0h-2v-4h2v4z\"/>\n",
       "    </g>\n",
       "</svg>\n",
       "  </button>\n",
       "\n",
       "<style>\n",
       "  .colab-df-quickchart {\n",
       "      --bg-color: #E8F0FE;\n",
       "      --fill-color: #1967D2;\n",
       "      --hover-bg-color: #E2EBFA;\n",
       "      --hover-fill-color: #174EA6;\n",
       "      --disabled-fill-color: #AAA;\n",
       "      --disabled-bg-color: #DDD;\n",
       "  }\n",
       "\n",
       "  [theme=dark] .colab-df-quickchart {\n",
       "      --bg-color: #3B4455;\n",
       "      --fill-color: #D2E3FC;\n",
       "      --hover-bg-color: #434B5C;\n",
       "      --hover-fill-color: #FFFFFF;\n",
       "      --disabled-bg-color: #3B4455;\n",
       "      --disabled-fill-color: #666;\n",
       "  }\n",
       "\n",
       "  .colab-df-quickchart {\n",
       "    background-color: var(--bg-color);\n",
       "    border: none;\n",
       "    border-radius: 50%;\n",
       "    cursor: pointer;\n",
       "    display: none;\n",
       "    fill: var(--fill-color);\n",
       "    height: 32px;\n",
       "    padding: 0;\n",
       "    width: 32px;\n",
       "  }\n",
       "\n",
       "  .colab-df-quickchart:hover {\n",
       "    background-color: var(--hover-bg-color);\n",
       "    box-shadow: 0 1px 2px rgba(60, 64, 67, 0.3), 0 1px 3px 1px rgba(60, 64, 67, 0.15);\n",
       "    fill: var(--button-hover-fill-color);\n",
       "  }\n",
       "\n",
       "  .colab-df-quickchart-complete:disabled,\n",
       "  .colab-df-quickchart-complete:disabled:hover {\n",
       "    background-color: var(--disabled-bg-color);\n",
       "    fill: var(--disabled-fill-color);\n",
       "    box-shadow: none;\n",
       "  }\n",
       "\n",
       "  .colab-df-spinner {\n",
       "    border: 2px solid var(--fill-color);\n",
       "    border-color: transparent;\n",
       "    border-bottom-color: var(--fill-color);\n",
       "    animation:\n",
       "      spin 1s steps(1) infinite;\n",
       "  }\n",
       "\n",
       "  @keyframes spin {\n",
       "    0% {\n",
       "      border-color: transparent;\n",
       "      border-bottom-color: var(--fill-color);\n",
       "      border-left-color: var(--fill-color);\n",
       "    }\n",
       "    20% {\n",
       "      border-color: transparent;\n",
       "      border-left-color: var(--fill-color);\n",
       "      border-top-color: var(--fill-color);\n",
       "    }\n",
       "    30% {\n",
       "      border-color: transparent;\n",
       "      border-left-color: var(--fill-color);\n",
       "      border-top-color: var(--fill-color);\n",
       "      border-right-color: var(--fill-color);\n",
       "    }\n",
       "    40% {\n",
       "      border-color: transparent;\n",
       "      border-right-color: var(--fill-color);\n",
       "      border-top-color: var(--fill-color);\n",
       "    }\n",
       "    60% {\n",
       "      border-color: transparent;\n",
       "      border-right-color: var(--fill-color);\n",
       "    }\n",
       "    80% {\n",
       "      border-color: transparent;\n",
       "      border-right-color: var(--fill-color);\n",
       "      border-bottom-color: var(--fill-color);\n",
       "    }\n",
       "    90% {\n",
       "      border-color: transparent;\n",
       "      border-bottom-color: var(--fill-color);\n",
       "    }\n",
       "  }\n",
       "</style>\n",
       "\n",
       "  <script>\n",
       "    async function quickchart(key) {\n",
       "      const quickchartButtonEl =\n",
       "        document.querySelector('#' + key + ' button');\n",
       "      quickchartButtonEl.disabled = true;  // To prevent multiple clicks.\n",
       "      quickchartButtonEl.classList.add('colab-df-spinner');\n",
       "      try {\n",
       "        const charts = await google.colab.kernel.invokeFunction(\n",
       "            'suggestCharts', [key], {});\n",
       "      } catch (error) {\n",
       "        console.error('Error during call to suggestCharts:', error);\n",
       "      }\n",
       "      quickchartButtonEl.classList.remove('colab-df-spinner');\n",
       "      quickchartButtonEl.classList.add('colab-df-quickchart-complete');\n",
       "    }\n",
       "    (() => {\n",
       "      let quickchartButtonEl =\n",
       "        document.querySelector('#df-0c2ca5df-3346-42b4-902d-8d22dba12a6a button');\n",
       "      quickchartButtonEl.style.display =\n",
       "        google.colab.kernel.accessAllowed ? 'block' : 'none';\n",
       "    })();\n",
       "  </script>\n",
       "</div>\n",
       "    </div>\n",
       "  </div>\n"
      ],
      "text/plain": [
       "   PassengerId  Survived  Pclass  \\\n",
       "0            1         0       3   \n",
       "1            2         1       1   \n",
       "2            3         1       3   \n",
       "3            4         1       1   \n",
       "4            5         0       3   \n",
       "\n",
       "                                                Name     Sex   Age  SibSp  \\\n",
       "0                            Braund, Mr. Owen Harris    male  22.0      1   \n",
       "1  Cumings, Mrs. John Bradley (Florence Briggs Th...  female  38.0      1   \n",
       "2                             Heikkinen, Miss. Laina  female  26.0      0   \n",
       "3       Futrelle, Mrs. Jacques Heath (Lily May Peel)  female  35.0      1   \n",
       "4                           Allen, Mr. William Henry    male  35.0      0   \n",
       "\n",
       "   Parch            Ticket     Fare Cabin Embarked  \n",
       "0      0         A/5 21171   7.2500   NaN        S  \n",
       "1      0          PC 17599  71.2833   C85        C  \n",
       "2      0  STON/O2. 3101282   7.9250   NaN        S  \n",
       "3      0            113803  53.1000  C123        S  \n",
       "4      0            373450   8.0500   NaN        S  "
      ]
     },
     "execution_count": 10,
     "metadata": {},
     "output_type": "execute_result"
    }
   ],
   "source": [
    "df = pd.read_csv('Titanic.csv')\n",
    "#df = df.dropna()\n",
    "std_scaler = StandardScaler()\n",
    "#df_scaled = std_scaler.fit_transform(df.to_numpy())\n",
    "dim = df.shape\n",
    "df.head(5)"
   ]
  },
  {
   "cell_type": "markdown",
   "metadata": {
    "id": "vAx6hfw-vAk2"
   },
   "source": [
    "## Nettoyage du dataset"
   ]
  },
  {
   "cell_type": "code",
   "execution_count": 11,
   "metadata": {
    "colab": {
     "base_uri": "https://localhost:8080/",
     "height": 206
    },
    "executionInfo": {
     "elapsed": 421,
     "status": "ok",
     "timestamp": 1697649537306,
     "user": {
      "displayName": "Coralie Tonle",
      "userId": "08477084319234187105"
     },
     "user_tz": -120
    },
    "id": "tAK8qh7Jx_lH",
    "outputId": "2635b8f5-1793-4074-cb96-a29b429c52a2"
   },
   "outputs": [
    {
     "data": {
      "text/html": [
       "\n",
       "  <div id=\"df-104b97f1-1b21-45d3-93e3-cc0ecec26126\" class=\"colab-df-container\">\n",
       "    <div>\n",
       "<style scoped>\n",
       "    .dataframe tbody tr th:only-of-type {\n",
       "        vertical-align: middle;\n",
       "    }\n",
       "\n",
       "    .dataframe tbody tr th {\n",
       "        vertical-align: top;\n",
       "    }\n",
       "\n",
       "    .dataframe thead th {\n",
       "        text-align: right;\n",
       "    }\n",
       "</style>\n",
       "<table border=\"1\" class=\"dataframe\">\n",
       "  <thead>\n",
       "    <tr style=\"text-align: right;\">\n",
       "      <th></th>\n",
       "      <th>Survived</th>\n",
       "      <th>Pclass</th>\n",
       "      <th>Sex</th>\n",
       "      <th>Age</th>\n",
       "      <th>SibSp</th>\n",
       "      <th>Parch</th>\n",
       "      <th>Fare</th>\n",
       "    </tr>\n",
       "  </thead>\n",
       "  <tbody>\n",
       "    <tr>\n",
       "      <th>0</th>\n",
       "      <td>0</td>\n",
       "      <td>3</td>\n",
       "      <td>male</td>\n",
       "      <td>22.0</td>\n",
       "      <td>1</td>\n",
       "      <td>0</td>\n",
       "      <td>7.2500</td>\n",
       "    </tr>\n",
       "    <tr>\n",
       "      <th>1</th>\n",
       "      <td>1</td>\n",
       "      <td>1</td>\n",
       "      <td>female</td>\n",
       "      <td>38.0</td>\n",
       "      <td>1</td>\n",
       "      <td>0</td>\n",
       "      <td>71.2833</td>\n",
       "    </tr>\n",
       "    <tr>\n",
       "      <th>2</th>\n",
       "      <td>1</td>\n",
       "      <td>3</td>\n",
       "      <td>female</td>\n",
       "      <td>26.0</td>\n",
       "      <td>0</td>\n",
       "      <td>0</td>\n",
       "      <td>7.9250</td>\n",
       "    </tr>\n",
       "    <tr>\n",
       "      <th>3</th>\n",
       "      <td>1</td>\n",
       "      <td>1</td>\n",
       "      <td>female</td>\n",
       "      <td>35.0</td>\n",
       "      <td>1</td>\n",
       "      <td>0</td>\n",
       "      <td>53.1000</td>\n",
       "    </tr>\n",
       "    <tr>\n",
       "      <th>4</th>\n",
       "      <td>0</td>\n",
       "      <td>3</td>\n",
       "      <td>male</td>\n",
       "      <td>35.0</td>\n",
       "      <td>0</td>\n",
       "      <td>0</td>\n",
       "      <td>8.0500</td>\n",
       "    </tr>\n",
       "  </tbody>\n",
       "</table>\n",
       "</div>\n",
       "    <div class=\"colab-df-buttons\">\n",
       "\n",
       "  <div class=\"colab-df-container\">\n",
       "    <button class=\"colab-df-convert\" onclick=\"convertToInteractive('df-104b97f1-1b21-45d3-93e3-cc0ecec26126')\"\n",
       "            title=\"Convert this dataframe to an interactive table.\"\n",
       "            style=\"display:none;\">\n",
       "\n",
       "  <svg xmlns=\"http://www.w3.org/2000/svg\" height=\"24px\" viewBox=\"0 -960 960 960\">\n",
       "    <path d=\"M120-120v-720h720v720H120Zm60-500h600v-160H180v160Zm220 220h160v-160H400v160Zm0 220h160v-160H400v160ZM180-400h160v-160H180v160Zm440 0h160v-160H620v160ZM180-180h160v-160H180v160Zm440 0h160v-160H620v160Z\"/>\n",
       "  </svg>\n",
       "    </button>\n",
       "\n",
       "  <style>\n",
       "    .colab-df-container {\n",
       "      display:flex;\n",
       "      gap: 12px;\n",
       "    }\n",
       "\n",
       "    .colab-df-convert {\n",
       "      background-color: #E8F0FE;\n",
       "      border: none;\n",
       "      border-radius: 50%;\n",
       "      cursor: pointer;\n",
       "      display: none;\n",
       "      fill: #1967D2;\n",
       "      height: 32px;\n",
       "      padding: 0 0 0 0;\n",
       "      width: 32px;\n",
       "    }\n",
       "\n",
       "    .colab-df-convert:hover {\n",
       "      background-color: #E2EBFA;\n",
       "      box-shadow: 0px 1px 2px rgba(60, 64, 67, 0.3), 0px 1px 3px 1px rgba(60, 64, 67, 0.15);\n",
       "      fill: #174EA6;\n",
       "    }\n",
       "\n",
       "    .colab-df-buttons div {\n",
       "      margin-bottom: 4px;\n",
       "    }\n",
       "\n",
       "    [theme=dark] .colab-df-convert {\n",
       "      background-color: #3B4455;\n",
       "      fill: #D2E3FC;\n",
       "    }\n",
       "\n",
       "    [theme=dark] .colab-df-convert:hover {\n",
       "      background-color: #434B5C;\n",
       "      box-shadow: 0px 1px 3px 1px rgba(0, 0, 0, 0.15);\n",
       "      filter: drop-shadow(0px 1px 2px rgba(0, 0, 0, 0.3));\n",
       "      fill: #FFFFFF;\n",
       "    }\n",
       "  </style>\n",
       "\n",
       "    <script>\n",
       "      const buttonEl =\n",
       "        document.querySelector('#df-104b97f1-1b21-45d3-93e3-cc0ecec26126 button.colab-df-convert');\n",
       "      buttonEl.style.display =\n",
       "        google.colab.kernel.accessAllowed ? 'block' : 'none';\n",
       "\n",
       "      async function convertToInteractive(key) {\n",
       "        const element = document.querySelector('#df-104b97f1-1b21-45d3-93e3-cc0ecec26126');\n",
       "        const dataTable =\n",
       "          await google.colab.kernel.invokeFunction('convertToInteractive',\n",
       "                                                    [key], {});\n",
       "        if (!dataTable) return;\n",
       "\n",
       "        const docLinkHtml = 'Like what you see? Visit the ' +\n",
       "          '<a target=\"_blank\" href=https://colab.research.google.com/notebooks/data_table.ipynb>data table notebook</a>'\n",
       "          + ' to learn more about interactive tables.';\n",
       "        element.innerHTML = '';\n",
       "        dataTable['output_type'] = 'display_data';\n",
       "        await google.colab.output.renderOutput(dataTable, element);\n",
       "        const docLink = document.createElement('div');\n",
       "        docLink.innerHTML = docLinkHtml;\n",
       "        element.appendChild(docLink);\n",
       "      }\n",
       "    </script>\n",
       "  </div>\n",
       "\n",
       "\n",
       "<div id=\"df-32c55efc-dfd5-4941-82a9-688e89b4aba2\">\n",
       "  <button class=\"colab-df-quickchart\" onclick=\"quickchart('df-32c55efc-dfd5-4941-82a9-688e89b4aba2')\"\n",
       "            title=\"Suggest charts.\"\n",
       "            style=\"display:none;\">\n",
       "\n",
       "<svg xmlns=\"http://www.w3.org/2000/svg\" height=\"24px\"viewBox=\"0 0 24 24\"\n",
       "     width=\"24px\">\n",
       "    <g>\n",
       "        <path d=\"M19 3H5c-1.1 0-2 .9-2 2v14c0 1.1.9 2 2 2h14c1.1 0 2-.9 2-2V5c0-1.1-.9-2-2-2zM9 17H7v-7h2v7zm4 0h-2V7h2v10zm4 0h-2v-4h2v4z\"/>\n",
       "    </g>\n",
       "</svg>\n",
       "  </button>\n",
       "\n",
       "<style>\n",
       "  .colab-df-quickchart {\n",
       "      --bg-color: #E8F0FE;\n",
       "      --fill-color: #1967D2;\n",
       "      --hover-bg-color: #E2EBFA;\n",
       "      --hover-fill-color: #174EA6;\n",
       "      --disabled-fill-color: #AAA;\n",
       "      --disabled-bg-color: #DDD;\n",
       "  }\n",
       "\n",
       "  [theme=dark] .colab-df-quickchart {\n",
       "      --bg-color: #3B4455;\n",
       "      --fill-color: #D2E3FC;\n",
       "      --hover-bg-color: #434B5C;\n",
       "      --hover-fill-color: #FFFFFF;\n",
       "      --disabled-bg-color: #3B4455;\n",
       "      --disabled-fill-color: #666;\n",
       "  }\n",
       "\n",
       "  .colab-df-quickchart {\n",
       "    background-color: var(--bg-color);\n",
       "    border: none;\n",
       "    border-radius: 50%;\n",
       "    cursor: pointer;\n",
       "    display: none;\n",
       "    fill: var(--fill-color);\n",
       "    height: 32px;\n",
       "    padding: 0;\n",
       "    width: 32px;\n",
       "  }\n",
       "\n",
       "  .colab-df-quickchart:hover {\n",
       "    background-color: var(--hover-bg-color);\n",
       "    box-shadow: 0 1px 2px rgba(60, 64, 67, 0.3), 0 1px 3px 1px rgba(60, 64, 67, 0.15);\n",
       "    fill: var(--button-hover-fill-color);\n",
       "  }\n",
       "\n",
       "  .colab-df-quickchart-complete:disabled,\n",
       "  .colab-df-quickchart-complete:disabled:hover {\n",
       "    background-color: var(--disabled-bg-color);\n",
       "    fill: var(--disabled-fill-color);\n",
       "    box-shadow: none;\n",
       "  }\n",
       "\n",
       "  .colab-df-spinner {\n",
       "    border: 2px solid var(--fill-color);\n",
       "    border-color: transparent;\n",
       "    border-bottom-color: var(--fill-color);\n",
       "    animation:\n",
       "      spin 1s steps(1) infinite;\n",
       "  }\n",
       "\n",
       "  @keyframes spin {\n",
       "    0% {\n",
       "      border-color: transparent;\n",
       "      border-bottom-color: var(--fill-color);\n",
       "      border-left-color: var(--fill-color);\n",
       "    }\n",
       "    20% {\n",
       "      border-color: transparent;\n",
       "      border-left-color: var(--fill-color);\n",
       "      border-top-color: var(--fill-color);\n",
       "    }\n",
       "    30% {\n",
       "      border-color: transparent;\n",
       "      border-left-color: var(--fill-color);\n",
       "      border-top-color: var(--fill-color);\n",
       "      border-right-color: var(--fill-color);\n",
       "    }\n",
       "    40% {\n",
       "      border-color: transparent;\n",
       "      border-right-color: var(--fill-color);\n",
       "      border-top-color: var(--fill-color);\n",
       "    }\n",
       "    60% {\n",
       "      border-color: transparent;\n",
       "      border-right-color: var(--fill-color);\n",
       "    }\n",
       "    80% {\n",
       "      border-color: transparent;\n",
       "      border-right-color: var(--fill-color);\n",
       "      border-bottom-color: var(--fill-color);\n",
       "    }\n",
       "    90% {\n",
       "      border-color: transparent;\n",
       "      border-bottom-color: var(--fill-color);\n",
       "    }\n",
       "  }\n",
       "</style>\n",
       "\n",
       "  <script>\n",
       "    async function quickchart(key) {\n",
       "      const quickchartButtonEl =\n",
       "        document.querySelector('#' + key + ' button');\n",
       "      quickchartButtonEl.disabled = true;  // To prevent multiple clicks.\n",
       "      quickchartButtonEl.classList.add('colab-df-spinner');\n",
       "      try {\n",
       "        const charts = await google.colab.kernel.invokeFunction(\n",
       "            'suggestCharts', [key], {});\n",
       "      } catch (error) {\n",
       "        console.error('Error during call to suggestCharts:', error);\n",
       "      }\n",
       "      quickchartButtonEl.classList.remove('colab-df-spinner');\n",
       "      quickchartButtonEl.classList.add('colab-df-quickchart-complete');\n",
       "    }\n",
       "    (() => {\n",
       "      let quickchartButtonEl =\n",
       "        document.querySelector('#df-32c55efc-dfd5-4941-82a9-688e89b4aba2 button');\n",
       "      quickchartButtonEl.style.display =\n",
       "        google.colab.kernel.accessAllowed ? 'block' : 'none';\n",
       "    })();\n",
       "  </script>\n",
       "</div>\n",
       "    </div>\n",
       "  </div>\n"
      ],
      "text/plain": [
       "   Survived  Pclass     Sex   Age  SibSp  Parch     Fare\n",
       "0         0       3    male  22.0      1      0   7.2500\n",
       "1         1       1  female  38.0      1      0  71.2833\n",
       "2         1       3  female  26.0      0      0   7.9250\n",
       "3         1       1  female  35.0      1      0  53.1000\n",
       "4         0       3    male  35.0      0      0   8.0500"
      ]
     },
     "execution_count": 11,
     "metadata": {},
     "output_type": "execute_result"
    }
   ],
   "source": [
    "df = df.drop(columns=['PassengerId','Cabin', 'Name','Embarked','Ticket'])\n",
    "df.head(5)"
   ]
  },
  {
   "cell_type": "code",
   "execution_count": 28,
   "metadata": {
    "colab": {
     "base_uri": "https://localhost:8080/",
     "height": 224
    },
    "executionInfo": {
     "elapsed": 13,
     "status": "ok",
     "timestamp": 1697651519296,
     "user": {
      "displayName": "Coralie Tonle",
      "userId": "08477084319234187105"
     },
     "user_tz": -120
    },
    "id": "_gvJY1x30E5M",
    "outputId": "2ad4cfb4-e0bc-418c-b24a-eeabd0ae7ebe"
   },
   "outputs": [
    {
     "name": "stdout",
     "output_type": "stream",
     "text": [
      "(891, 7)\n"
     ]
    },
    {
     "data": {
      "text/html": [
       "\n",
       "  <div id=\"df-1c332a87-b1ed-43e9-a0e1-ddea25b1e30d\" class=\"colab-df-container\">\n",
       "    <div>\n",
       "<style scoped>\n",
       "    .dataframe tbody tr th:only-of-type {\n",
       "        vertical-align: middle;\n",
       "    }\n",
       "\n",
       "    .dataframe tbody tr th {\n",
       "        vertical-align: top;\n",
       "    }\n",
       "\n",
       "    .dataframe thead th {\n",
       "        text-align: right;\n",
       "    }\n",
       "</style>\n",
       "<table border=\"1\" class=\"dataframe\">\n",
       "  <thead>\n",
       "    <tr style=\"text-align: right;\">\n",
       "      <th></th>\n",
       "      <th>Survived</th>\n",
       "      <th>Age</th>\n",
       "      <th>SibSp</th>\n",
       "      <th>Parch</th>\n",
       "      <th>Fare</th>\n",
       "      <th>Sex_female</th>\n",
       "      <th>Sex_male</th>\n",
       "      <th>Pclass_1</th>\n",
       "      <th>Pclass_2</th>\n",
       "      <th>Pclass_3</th>\n",
       "    </tr>\n",
       "  </thead>\n",
       "  <tbody>\n",
       "    <tr>\n",
       "      <th>0</th>\n",
       "      <td>0</td>\n",
       "      <td>22.0</td>\n",
       "      <td>1</td>\n",
       "      <td>0</td>\n",
       "      <td>7.2500</td>\n",
       "      <td>0</td>\n",
       "      <td>1</td>\n",
       "      <td>0</td>\n",
       "      <td>0</td>\n",
       "      <td>1</td>\n",
       "    </tr>\n",
       "    <tr>\n",
       "      <th>1</th>\n",
       "      <td>1</td>\n",
       "      <td>38.0</td>\n",
       "      <td>1</td>\n",
       "      <td>0</td>\n",
       "      <td>71.2833</td>\n",
       "      <td>1</td>\n",
       "      <td>0</td>\n",
       "      <td>1</td>\n",
       "      <td>0</td>\n",
       "      <td>0</td>\n",
       "    </tr>\n",
       "    <tr>\n",
       "      <th>2</th>\n",
       "      <td>1</td>\n",
       "      <td>26.0</td>\n",
       "      <td>0</td>\n",
       "      <td>0</td>\n",
       "      <td>7.9250</td>\n",
       "      <td>1</td>\n",
       "      <td>0</td>\n",
       "      <td>0</td>\n",
       "      <td>0</td>\n",
       "      <td>1</td>\n",
       "    </tr>\n",
       "    <tr>\n",
       "      <th>3</th>\n",
       "      <td>1</td>\n",
       "      <td>35.0</td>\n",
       "      <td>1</td>\n",
       "      <td>0</td>\n",
       "      <td>53.1000</td>\n",
       "      <td>1</td>\n",
       "      <td>0</td>\n",
       "      <td>1</td>\n",
       "      <td>0</td>\n",
       "      <td>0</td>\n",
       "    </tr>\n",
       "    <tr>\n",
       "      <th>4</th>\n",
       "      <td>0</td>\n",
       "      <td>35.0</td>\n",
       "      <td>0</td>\n",
       "      <td>0</td>\n",
       "      <td>8.0500</td>\n",
       "      <td>0</td>\n",
       "      <td>1</td>\n",
       "      <td>0</td>\n",
       "      <td>0</td>\n",
       "      <td>1</td>\n",
       "    </tr>\n",
       "  </tbody>\n",
       "</table>\n",
       "</div>\n",
       "    <div class=\"colab-df-buttons\">\n",
       "\n",
       "  <div class=\"colab-df-container\">\n",
       "    <button class=\"colab-df-convert\" onclick=\"convertToInteractive('df-1c332a87-b1ed-43e9-a0e1-ddea25b1e30d')\"\n",
       "            title=\"Convert this dataframe to an interactive table.\"\n",
       "            style=\"display:none;\">\n",
       "\n",
       "  <svg xmlns=\"http://www.w3.org/2000/svg\" height=\"24px\" viewBox=\"0 -960 960 960\">\n",
       "    <path d=\"M120-120v-720h720v720H120Zm60-500h600v-160H180v160Zm220 220h160v-160H400v160Zm0 220h160v-160H400v160ZM180-400h160v-160H180v160Zm440 0h160v-160H620v160ZM180-180h160v-160H180v160Zm440 0h160v-160H620v160Z\"/>\n",
       "  </svg>\n",
       "    </button>\n",
       "\n",
       "  <style>\n",
       "    .colab-df-container {\n",
       "      display:flex;\n",
       "      gap: 12px;\n",
       "    }\n",
       "\n",
       "    .colab-df-convert {\n",
       "      background-color: #E8F0FE;\n",
       "      border: none;\n",
       "      border-radius: 50%;\n",
       "      cursor: pointer;\n",
       "      display: none;\n",
       "      fill: #1967D2;\n",
       "      height: 32px;\n",
       "      padding: 0 0 0 0;\n",
       "      width: 32px;\n",
       "    }\n",
       "\n",
       "    .colab-df-convert:hover {\n",
       "      background-color: #E2EBFA;\n",
       "      box-shadow: 0px 1px 2px rgba(60, 64, 67, 0.3), 0px 1px 3px 1px rgba(60, 64, 67, 0.15);\n",
       "      fill: #174EA6;\n",
       "    }\n",
       "\n",
       "    .colab-df-buttons div {\n",
       "      margin-bottom: 4px;\n",
       "    }\n",
       "\n",
       "    [theme=dark] .colab-df-convert {\n",
       "      background-color: #3B4455;\n",
       "      fill: #D2E3FC;\n",
       "    }\n",
       "\n",
       "    [theme=dark] .colab-df-convert:hover {\n",
       "      background-color: #434B5C;\n",
       "      box-shadow: 0px 1px 3px 1px rgba(0, 0, 0, 0.15);\n",
       "      filter: drop-shadow(0px 1px 2px rgba(0, 0, 0, 0.3));\n",
       "      fill: #FFFFFF;\n",
       "    }\n",
       "  </style>\n",
       "\n",
       "    <script>\n",
       "      const buttonEl =\n",
       "        document.querySelector('#df-1c332a87-b1ed-43e9-a0e1-ddea25b1e30d button.colab-df-convert');\n",
       "      buttonEl.style.display =\n",
       "        google.colab.kernel.accessAllowed ? 'block' : 'none';\n",
       "\n",
       "      async function convertToInteractive(key) {\n",
       "        const element = document.querySelector('#df-1c332a87-b1ed-43e9-a0e1-ddea25b1e30d');\n",
       "        const dataTable =\n",
       "          await google.colab.kernel.invokeFunction('convertToInteractive',\n",
       "                                                    [key], {});\n",
       "        if (!dataTable) return;\n",
       "\n",
       "        const docLinkHtml = 'Like what you see? Visit the ' +\n",
       "          '<a target=\"_blank\" href=https://colab.research.google.com/notebooks/data_table.ipynb>data table notebook</a>'\n",
       "          + ' to learn more about interactive tables.';\n",
       "        element.innerHTML = '';\n",
       "        dataTable['output_type'] = 'display_data';\n",
       "        await google.colab.output.renderOutput(dataTable, element);\n",
       "        const docLink = document.createElement('div');\n",
       "        docLink.innerHTML = docLinkHtml;\n",
       "        element.appendChild(docLink);\n",
       "      }\n",
       "    </script>\n",
       "  </div>\n",
       "\n",
       "\n",
       "<div id=\"df-77a056ef-ab5d-441a-a5d2-95f2529a7679\">\n",
       "  <button class=\"colab-df-quickchart\" onclick=\"quickchart('df-77a056ef-ab5d-441a-a5d2-95f2529a7679')\"\n",
       "            title=\"Suggest charts.\"\n",
       "            style=\"display:none;\">\n",
       "\n",
       "<svg xmlns=\"http://www.w3.org/2000/svg\" height=\"24px\"viewBox=\"0 0 24 24\"\n",
       "     width=\"24px\">\n",
       "    <g>\n",
       "        <path d=\"M19 3H5c-1.1 0-2 .9-2 2v14c0 1.1.9 2 2 2h14c1.1 0 2-.9 2-2V5c0-1.1-.9-2-2-2zM9 17H7v-7h2v7zm4 0h-2V7h2v10zm4 0h-2v-4h2v4z\"/>\n",
       "    </g>\n",
       "</svg>\n",
       "  </button>\n",
       "\n",
       "<style>\n",
       "  .colab-df-quickchart {\n",
       "      --bg-color: #E8F0FE;\n",
       "      --fill-color: #1967D2;\n",
       "      --hover-bg-color: #E2EBFA;\n",
       "      --hover-fill-color: #174EA6;\n",
       "      --disabled-fill-color: #AAA;\n",
       "      --disabled-bg-color: #DDD;\n",
       "  }\n",
       "\n",
       "  [theme=dark] .colab-df-quickchart {\n",
       "      --bg-color: #3B4455;\n",
       "      --fill-color: #D2E3FC;\n",
       "      --hover-bg-color: #434B5C;\n",
       "      --hover-fill-color: #FFFFFF;\n",
       "      --disabled-bg-color: #3B4455;\n",
       "      --disabled-fill-color: #666;\n",
       "  }\n",
       "\n",
       "  .colab-df-quickchart {\n",
       "    background-color: var(--bg-color);\n",
       "    border: none;\n",
       "    border-radius: 50%;\n",
       "    cursor: pointer;\n",
       "    display: none;\n",
       "    fill: var(--fill-color);\n",
       "    height: 32px;\n",
       "    padding: 0;\n",
       "    width: 32px;\n",
       "  }\n",
       "\n",
       "  .colab-df-quickchart:hover {\n",
       "    background-color: var(--hover-bg-color);\n",
       "    box-shadow: 0 1px 2px rgba(60, 64, 67, 0.3), 0 1px 3px 1px rgba(60, 64, 67, 0.15);\n",
       "    fill: var(--button-hover-fill-color);\n",
       "  }\n",
       "\n",
       "  .colab-df-quickchart-complete:disabled,\n",
       "  .colab-df-quickchart-complete:disabled:hover {\n",
       "    background-color: var(--disabled-bg-color);\n",
       "    fill: var(--disabled-fill-color);\n",
       "    box-shadow: none;\n",
       "  }\n",
       "\n",
       "  .colab-df-spinner {\n",
       "    border: 2px solid var(--fill-color);\n",
       "    border-color: transparent;\n",
       "    border-bottom-color: var(--fill-color);\n",
       "    animation:\n",
       "      spin 1s steps(1) infinite;\n",
       "  }\n",
       "\n",
       "  @keyframes spin {\n",
       "    0% {\n",
       "      border-color: transparent;\n",
       "      border-bottom-color: var(--fill-color);\n",
       "      border-left-color: var(--fill-color);\n",
       "    }\n",
       "    20% {\n",
       "      border-color: transparent;\n",
       "      border-left-color: var(--fill-color);\n",
       "      border-top-color: var(--fill-color);\n",
       "    }\n",
       "    30% {\n",
       "      border-color: transparent;\n",
       "      border-left-color: var(--fill-color);\n",
       "      border-top-color: var(--fill-color);\n",
       "      border-right-color: var(--fill-color);\n",
       "    }\n",
       "    40% {\n",
       "      border-color: transparent;\n",
       "      border-right-color: var(--fill-color);\n",
       "      border-top-color: var(--fill-color);\n",
       "    }\n",
       "    60% {\n",
       "      border-color: transparent;\n",
       "      border-right-color: var(--fill-color);\n",
       "    }\n",
       "    80% {\n",
       "      border-color: transparent;\n",
       "      border-right-color: var(--fill-color);\n",
       "      border-bottom-color: var(--fill-color);\n",
       "    }\n",
       "    90% {\n",
       "      border-color: transparent;\n",
       "      border-bottom-color: var(--fill-color);\n",
       "    }\n",
       "  }\n",
       "</style>\n",
       "\n",
       "  <script>\n",
       "    async function quickchart(key) {\n",
       "      const quickchartButtonEl =\n",
       "        document.querySelector('#' + key + ' button');\n",
       "      quickchartButtonEl.disabled = true;  // To prevent multiple clicks.\n",
       "      quickchartButtonEl.classList.add('colab-df-spinner');\n",
       "      try {\n",
       "        const charts = await google.colab.kernel.invokeFunction(\n",
       "            'suggestCharts', [key], {});\n",
       "      } catch (error) {\n",
       "        console.error('Error during call to suggestCharts:', error);\n",
       "      }\n",
       "      quickchartButtonEl.classList.remove('colab-df-spinner');\n",
       "      quickchartButtonEl.classList.add('colab-df-quickchart-complete');\n",
       "    }\n",
       "    (() => {\n",
       "      let quickchartButtonEl =\n",
       "        document.querySelector('#df-77a056ef-ab5d-441a-a5d2-95f2529a7679 button');\n",
       "      quickchartButtonEl.style.display =\n",
       "        google.colab.kernel.accessAllowed ? 'block' : 'none';\n",
       "    })();\n",
       "  </script>\n",
       "</div>\n",
       "    </div>\n",
       "  </div>\n"
      ],
      "text/plain": [
       "   Survived   Age  SibSp  Parch     Fare  Sex_female  Sex_male  Pclass_1  \\\n",
       "0         0  22.0      1      0   7.2500           0         1         0   \n",
       "1         1  38.0      1      0  71.2833           1         0         1   \n",
       "2         1  26.0      0      0   7.9250           1         0         0   \n",
       "3         1  35.0      1      0  53.1000           1         0         1   \n",
       "4         0  35.0      0      0   8.0500           0         1         0   \n",
       "\n",
       "   Pclass_2  Pclass_3  \n",
       "0         0         1  \n",
       "1         0         0  \n",
       "2         0         1  \n",
       "3         0         0  \n",
       "4         0         1  "
      ]
     },
     "execution_count": 28,
     "metadata": {},
     "output_type": "execute_result"
    }
   ],
   "source": [
    "#Replacement of missing values for age\n",
    "mean_age=df['Age'].mean()\n",
    "df['Age'].fillna(value=mean_age, inplace=True)\n",
    "#dummy variables with sex\n",
    "# creating a dummyencoded data\n",
    "dfp = pd.get_dummies(df, columns=['Sex','Pclass'])\n",
    "dfp = dfp.dropna()\n",
    "print(df.shape)\n",
    "dfp.head(5)"
   ]
  },
  {
   "cell_type": "markdown",
   "metadata": {
    "id": "0ulggFcN5vCU"
   },
   "source": [
    "### 1 - Nombre et proportion de passagers decedes"
   ]
  },
  {
   "cell_type": "code",
   "execution_count": 45,
   "metadata": {
    "colab": {
     "base_uri": "https://localhost:8080/"
    },
    "executionInfo": {
     "elapsed": 242,
     "status": "ok",
     "timestamp": 1697655425063,
     "user": {
      "displayName": "Coralie Tonle",
      "userId": "08477084319234187105"
     },
     "user_tz": -120
    },
    "id": "a_tpiijj0B4O",
    "outputId": "93cdb3d2-9c38-4de2-cbac-93c9a341fd16"
   },
   "outputs": [
    {
     "name": "stdout",
     "output_type": "stream",
     "text": [
      "Nombre de passagers decedes:  549\n",
      "Proportion de passagers decedes:  61.61616161616162\n"
     ]
    }
   ],
   "source": [
    "numDead = dfp.shape[0] - np.sum(dfp['Survived'])\n",
    "propDead = numDead*100/dfp.shape[0]\n",
    "print(\"Nombre de passagers decedes: \",numDead)\n",
    "print(\"Proportion de passagers decedes: \", propDead)"
   ]
  },
  {
   "cell_type": "markdown",
   "metadata": {
    "id": "1HQeaZnG8cVT"
   },
   "source": [
    "### 2 - Pourcentage d'hommes et de femmes decedees"
   ]
  },
  {
   "cell_type": "code",
   "execution_count": 46,
   "metadata": {
    "colab": {
     "base_uri": "https://localhost:8080/"
    },
    "executionInfo": {
     "elapsed": 248,
     "status": "ok",
     "timestamp": 1697655430156,
     "user": {
      "displayName": "Coralie Tonle",
      "userId": "08477084319234187105"
     },
     "user_tz": -120
    },
    "id": "G8g5o5J88aBw",
    "outputId": "84e4d242-ba6b-4d49-8862-4a87c6714629"
   },
   "outputs": [
    {
     "name": "stdout",
     "output_type": "stream",
     "text": [
      "Proportion de femmes parmi les decedes:  14.754098360655737\n",
      "Proportion des hommes parmi les decedes: 85.24590163934427\n",
      "Proportion de femmes parmi les vivants:  68.12865497076024\n",
      "Proportion des hommes parmi les vivants: 31.871345029239762\n"
     ]
    }
   ],
   "source": [
    "n = dfp.shape[0]\n",
    "p = dfp.shape[1] - 1\n",
    "ds = dfp.to_numpy()\n",
    "#nombre de femmes vivantes\n",
    "numF = np.sum(ds[:,5])\n",
    "numFA = np.sum(np.multiply(ds[:,0],ds[:,5]))\n",
    "propFDead = (numF - numFA)*100/numDead\n",
    "propFA = numFA*100/(n - numDead)\n",
    "print(\"Proportion de femmes parmi les decedes: \", propFDead )\n",
    "print(\"Proportion des hommes parmi les decedes:\", 100 - propFDead)\n",
    "print(\"Proportion de femmes parmi les vivants: \", propFA )\n",
    "print(\"Proportion des hommes parmi les vivants:\", 100 - propFA)"
   ]
  },
  {
   "cell_type": "markdown",
   "metadata": {
    "id": "X-jLfp_DJt0r"
   },
   "source": [
    "On constate qu'il y a eu beaucoup plus de morts masculines."
   ]
  },
  {
   "cell_type": "markdown",
   "metadata": {
    "id": "uHHXk0GgJ4wT"
   },
   "source": [
    "### 3 - Pourcentage d'hommes et de femmes decedees dans les classes"
   ]
  },
  {
   "cell_type": "code",
   "execution_count": 133,
   "metadata": {
    "colab": {
     "base_uri": "https://localhost:8080/"
    },
    "executionInfo": {
     "elapsed": 218,
     "status": "ok",
     "timestamp": 1697663908022,
     "user": {
      "displayName": "Coralie Tonle",
      "userId": "08477084319234187105"
     },
     "user_tz": -120
    },
    "id": "hOEN6-L2KCJw",
    "outputId": "282b8ab3-5e04-4d1b-95b4-81c1bb4f9d75"
   },
   "outputs": [
    {
     "name": "stdout",
     "output_type": "stream",
     "text": [
      "216.0\n"
     ]
    }
   ],
   "source": [
    "numC1 = np.sum(ds[:,7])\n",
    "numC2 = np.sum(ds[:,8])\n",
    "numC3 = np.sum(ds[:,9])\n",
    "numC1A = np.sum(np.multiply(ds[:,7],ds[:,0]))\n",
    "numC2A = np.sum(np.multiply(ds[:,8],ds[:,0]))\n",
    "numC3A = np.sum(np.multiply(ds[:,9],ds[:,0]))\n",
    "numC1D = numC1 - numC1A\n",
    "numC2D = numC2 - numC2A\n",
    "numC3D = numC3 - numC3A\n",
    "print(numC1)"
   ]
  },
  {
   "cell_type": "markdown",
   "metadata": {
    "id": "fMcifU5QKb9-"
   },
   "source": [
    "Classe 1"
   ]
  },
  {
   "cell_type": "code",
   "execution_count": 130,
   "metadata": {
    "colab": {
     "base_uri": "https://localhost:8080/"
    },
    "executionInfo": {
     "elapsed": 237,
     "status": "ok",
     "timestamp": 1697663808277,
     "user": {
      "displayName": "Coralie Tonle",
      "userId": "08477084319234187105"
     },
     "user_tz": -120
    },
    "id": "k88AmXvGKgrA",
    "outputId": "56d01a01-b028-42d5-a77e-651ad138f006"
   },
   "outputs": [
    {
     "name": "stdout",
     "output_type": "stream",
     "text": [
      "Proportion de femmes decedees en classe 1:  3.75\n",
      "Proportion d'hommes decedes en classe 1:  96.25\n"
     ]
    }
   ],
   "source": [
    "#Femmes en classe 1\n",
    "F1 = np.multiply(ds[:,5], ds[:, 7])\n",
    "M1 = np.multiply(ds[:,6], ds[:, 7])\n",
    "numF1 = np.sum(F1)\n",
    "numM1 = np.sum(M1)\n",
    "numFA1 = np.sum(np.multiply(F1, ds[:, 0]))\n",
    "numDA1 = np.sum(np.multiply(M1, ds[:, 0]))\n",
    "#propFA1 = numFA1*100/numC1\n",
    "propFD1 = (numF1 - numFA1)*100/numC1D\n",
    "propMD1 = (numM1 - numDA1)*100/numC1D\n",
    "print(\"Proportion de femmes decedees en classe 1: \", propFD1)\n",
    "print(\"Proportion d'hommes decedes en classe 1: \", propMD1)"
   ]
  },
  {
   "cell_type": "code",
   "execution_count": 132,
   "metadata": {
    "colab": {
     "base_uri": "https://localhost:8080/"
    },
    "executionInfo": {
     "elapsed": 224,
     "status": "ok",
     "timestamp": 1697663849517,
     "user": {
      "displayName": "Coralie Tonle",
      "userId": "08477084319234187105"
     },
     "user_tz": -120
    },
    "id": "Nsl5H7NvMpIo",
    "outputId": "05a4eccb-2c0c-440a-f171-2da2b40fecf0"
   },
   "outputs": [
    {
     "name": "stdout",
     "output_type": "stream",
     "text": [
      "Proportion de femmes decedees en classe 2:  6.185567010309279\n",
      "Proportion d'hommes decedes en classe 2:  93.81443298969072\n"
     ]
    }
   ],
   "source": [
    "#Femmes en classe 2\n",
    "F2 = np.multiply(ds[:,5], ds[:, 8])\n",
    "M2 = np.multiply(ds[:,6], ds[:, 8])\n",
    "numF2 = np.sum(F2)\n",
    "numM2 = np.sum(M2)\n",
    "numFA2 = np.sum(np.multiply(F2, ds[:, 0]))\n",
    "numDA2 = np.sum(np.multiply(M2, ds[:, 0]))\n",
    "#propFA1 = numFA1*100/numC1\n",
    "propFD2 = (numF2 - numFA2)*100/numC2D\n",
    "propMD2 = (numM2 - numDA2)*100/numC2D\n",
    "print(\"Proportion de femmes decedees en classe 2: \", propFD2)\n",
    "print(\"Proportion d'hommes decedes en classe 2: \", propMD2)"
   ]
  },
  {
   "cell_type": "markdown",
   "metadata": {
    "id": "fzHGZGiY0C30"
   },
   "source": []
  },
  {
   "cell_type": "code",
   "execution_count": 134,
   "metadata": {
    "colab": {
     "base_uri": "https://localhost:8080/"
    },
    "executionInfo": {
     "elapsed": 312,
     "status": "ok",
     "timestamp": 1697663928399,
     "user": {
      "displayName": "Coralie Tonle",
      "userId": "08477084319234187105"
     },
     "user_tz": -120
    },
    "id": "Wv52uZ2ONBF8",
    "outputId": "c9c8fa2f-6576-4be7-9ebb-23906248040f"
   },
   "outputs": [
    {
     "name": "stdout",
     "output_type": "stream",
     "text": [
      "Proportion de femmes decedees en classe 3:  19.35483870967742\n",
      "Proportion d'hommes decedes en classe 3:  80.64516129032258\n"
     ]
    }
   ],
   "source": [
    "#Femmes en classe 3\n",
    "F3 = np.multiply(ds[:,5], ds[:, 9])\n",
    "M3 = np.multiply(ds[:,6], ds[:, 9])\n",
    "numF3 = np.sum(F3)\n",
    "numM3 = np.sum(M3)\n",
    "numFA3 = np.sum(np.multiply(F3, ds[:, 0]))\n",
    "numDA3 = np.sum(np.multiply(M3, ds[:, 0]))\n",
    "#propFA1 = numFA1*100/numC1\n",
    "propFD3 = (numF3 - numFA3)*100/(numC3D)\n",
    "propMD3 = (numM3 - numDA3)*100/(numC3D)\n",
    "print(\"Proportion de femmes decedees en classe 3: \", propFD3)\n",
    "print(\"Proportion d'hommes decedes en classe 3: \", propMD3)"
   ]
  },
  {
   "cell_type": "markdown",
   "metadata": {
    "id": "MEh7n9CQNXlm"
   },
   "source": [
    "On se rend compte qu'il le nombre de morts (d'hommes comme de femmes) augmente avec le numero de la classe.<br/>\n",
    "De plus, le nombre de femmes mortes est tres petit devant le nombre d'hommes peu importe la classe."
   ]
  },
  {
   "cell_type": "markdown",
   "metadata": {
    "id": "WkQJG0rTMlx3"
   },
   "source": [
    "Classe 2"
   ]
  },
  {
   "cell_type": "markdown",
   "metadata": {
    "id": "VAKxxh5hNnsK"
   },
   "source": [
    "### Matrice de correlation des variables"
   ]
  },
  {
   "cell_type": "code",
   "execution_count": 57,
   "metadata": {
    "colab": {
     "base_uri": "https://localhost:8080/"
    },
    "executionInfo": {
     "elapsed": 307,
     "status": "ok",
     "timestamp": 1697656979578,
     "user": {
      "displayName": "Coralie Tonle",
      "userId": "08477084319234187105"
     },
     "user_tz": -120
    },
    "id": "DnlZ8EFCOJUq",
    "outputId": "b3ba5440-2625-45dd-f28a-fdd91d2a9b55"
   },
   "outputs": [
    {
     "name": "stdout",
     "output_type": "stream",
     "text": [
      "[[ 1.00000000e+00 -6.98085153e-02 -3.53224989e-02  8.16294071e-02\n",
      "   2.57306522e-01  5.43351381e-01 -5.43351381e-01  2.85903768e-01\n",
      "   9.33485724e-02 -3.22308357e-01]\n",
      " [-6.98085153e-02  1.00000000e+00 -2.32624586e-01 -1.79190915e-01\n",
      "   9.15660933e-02 -8.41534391e-02  8.41534391e-02  3.19916358e-01\n",
      "   6.58914520e-03 -2.81004032e-01]\n",
      " [-3.53224989e-02 -2.32624586e-01  1.00000000e+00  4.14837699e-01\n",
      "   1.59651043e-01  1.14630810e-01 -1.14630810e-01 -5.45815510e-02\n",
      "  -5.59316359e-02  9.25480463e-02]\n",
      " [ 8.16294071e-02 -1.79190915e-01  4.14837699e-01  1.00000000e+00\n",
      "   2.16224945e-01  2.45488960e-01 -2.45488960e-01 -1.76334912e-02\n",
      "  -7.33897240e-04  1.57903846e-02]\n",
      " [ 2.57306522e-01  9.15660933e-02  1.59651043e-01  2.16224945e-01\n",
      "   1.00000000e+00  1.82332834e-01 -1.82332834e-01  5.91710719e-01\n",
      "  -1.18556698e-01 -4.13332542e-01]\n",
      " [ 5.43351381e-01 -8.41534391e-02  1.14630810e-01  2.45488960e-01\n",
      "   1.82332834e-01  1.00000000e+00 -1.00000000e+00  9.80131356e-02\n",
      "   6.47463120e-02 -1.37142782e-01]\n",
      " [-5.43351381e-01  8.41534391e-02 -1.14630810e-01 -2.45488960e-01\n",
      "  -1.82332834e-01 -1.00000000e+00  1.00000000e+00 -9.80131356e-02\n",
      "  -6.47463120e-02  1.37142782e-01]\n",
      " [ 2.85903768e-01  3.19916358e-01 -5.45815510e-02 -1.76334912e-02\n",
      "   5.91710719e-01  9.80131356e-02 -9.80131356e-02  1.00000000e+00\n",
      "  -2.88585292e-01 -6.26737585e-01]\n",
      " [ 9.33485724e-02  6.58914520e-03 -5.59316359e-02 -7.33897240e-04\n",
      "  -1.18556698e-01  6.47463120e-02 -6.47463120e-02 -2.88585292e-01\n",
      "   1.00000000e+00 -5.65210154e-01]\n",
      " [-3.22308357e-01 -2.81004032e-01  9.25480463e-02  1.57903846e-02\n",
      "  -4.13332542e-01 -1.37142782e-01  1.37142782e-01 -6.26737585e-01\n",
      "  -5.65210154e-01  1.00000000e+00]]\n"
     ]
    }
   ],
   "source": [
    "CorrMatrix = np.corrcoef(ds,rowvar=False)\n",
    "print(CorrMatrix)"
   ]
  },
  {
   "cell_type": "markdown",
   "metadata": {
    "id": "IBXyVqiyPzvD"
   },
   "source": [
    "On se rend compte que la variable de survie est positivement au sexe feminin et a la plus grande valeur.<br/>\n",
    "Elle est negativement correlee au sexe de l'homme."
   ]
  },
  {
   "cell_type": "markdown",
   "metadata": {
    "id": "yO06vvnTQNi4"
   },
   "source": [
    "### Intervalle de confiance pour l'ensemble des parametres"
   ]
  },
  {
   "cell_type": "code",
   "execution_count": 137,
   "metadata": {
    "colab": {
     "base_uri": "https://localhost:8080/"
    },
    "executionInfo": {
     "elapsed": 227,
     "status": "ok",
     "timestamp": 1697665133995,
     "user": {
      "displayName": "Coralie Tonle",
      "userId": "08477084319234187105"
     },
     "user_tz": -120
    },
    "id": "v7KKv_PhQSjx",
    "outputId": "741f5af4-7305-45ff-b56a-616fd90d81d4"
   },
   "outputs": [
    {
     "name": "stdout",
     "output_type": "stream",
     "text": [
      "(891,)\n"
     ]
    }
   ],
   "source": [
    "#Importation de statsmodels\n",
    "import statsmodels.api as sm\n",
    "from scipy.stats import norm\n",
    "X = ds[:,1:]\n",
    "X = np.delete(X, (5,7),1)\n",
    "#Adding intercept\n",
    "intercept = np.ones(ds.shape[0])\n",
    "print(intercept.shape)\n",
    "Xnew = np.column_stack((intercept,X))\n",
    "Y = ds[:,0]"
   ]
  },
  {
   "cell_type": "markdown",
   "metadata": {
    "id": "UInDF2M4R3fC"
   },
   "source": [
    "Calcul de l'EMV"
   ]
  },
  {
   "cell_type": "code",
   "execution_count": 139,
   "metadata": {
    "colab": {
     "base_uri": "https://localhost:8080/"
    },
    "executionInfo": {
     "elapsed": 255,
     "status": "ok",
     "timestamp": 1697665168412,
     "user": {
      "displayName": "Coralie Tonle",
      "userId": "08477084319234187105"
     },
     "user_tz": -120
    },
    "id": "3V6-8kUbR5gu",
    "outputId": "41a51c99-1ddb-46ea-edc2-fea9df62f845"
   },
   "outputs": [
    {
     "name": "stdout",
     "output_type": "stream",
     "text": [
      "Optimization terminated successfully.\n",
      "         Current function value: 0.442576\n",
      "         Iterations 6\n",
      "[[-5.46646760e-01  6.60282864e-01]\n",
      " [-5.48625772e-02 -2.41173652e-02]\n",
      " [-5.64914851e-01 -1.35246416e-01]\n",
      " [-3.43866270e-01  1.17198227e-01]\n",
      " [-1.80408445e-03  7.78631142e-03]\n",
      " [ 2.37039509e+00  3.15145785e+00]\n",
      " [ 4.47096983e-01  1.59912921e+00]\n",
      " [-1.57250613e+00 -6.80996632e-01]]\n"
     ]
    }
   ],
   "source": [
    "alpha = 0.05\n",
    "model = sm.Logit(Y, Xnew).fit()\n",
    "print(model.conf_int(alpha))"
   ]
  },
  {
   "cell_type": "markdown",
   "metadata": {
    "id": "apoYjfljlRDP"
   },
   "source": [
    "### 6 - p-valeur du test"
   ]
  },
  {
   "cell_type": "markdown",
   "metadata": {
    "id": "1-9WwtA4p0LA"
   },
   "source": []
  },
  {
   "cell_type": "code",
   "execution_count": 141,
   "metadata": {
    "colab": {
     "base_uri": "https://localhost:8080/"
    },
    "executionInfo": {
     "elapsed": 282,
     "status": "ok",
     "timestamp": 1697665438169,
     "user": {
      "displayName": "Coralie Tonle",
      "userId": "08477084319234187105"
     },
     "user_tz": -120
    },
    "id": "iHDTYd14idPs",
    "outputId": "0429d70c-1f46-4ed6-d185-25ba9085d794"
   },
   "outputs": [
    {
     "name": "stdout",
     "output_type": "stream",
     "text": [
      "0.22149139650096872\n"
     ]
    }
   ],
   "source": [
    "print(model.pvalues[4])"
   ]
  },
  {
   "cell_type": "markdown",
   "metadata": {
    "id": "1mXY8nzCwk60"
   },
   "source": [
    "On se rend compte que la p-valeur du test est relativement grande et donc celui ci echoue a rejeter H0."
   ]
  },
  {
   "cell_type": "markdown",
   "metadata": {
    "id": "UFHBH5t4v44g"
   },
   "source": [
    "### 7 - Analyse sans la variable Parch"
   ]
  },
  {
   "cell_type": "code",
   "execution_count": 142,
   "metadata": {
    "colab": {
     "base_uri": "https://localhost:8080/"
    },
    "executionInfo": {
     "elapsed": 741,
     "status": "ok",
     "timestamp": 1697665627114,
     "user": {
      "displayName": "Coralie Tonle",
      "userId": "08477084319234187105"
     },
     "user_tz": -120
    },
    "id": "aEhZrccNv6lY",
    "outputId": "56e033b9-bf69-448d-8a60-d194c5805950"
   },
   "outputs": [
    {
     "name": "stdout",
     "output_type": "stream",
     "text": [
      "Optimization terminated successfully.\n",
      "         Current function value: 0.585751\n",
      "         Iterations 6\n",
      "[[-0.02774687 -0.0117767 ]\n",
      " [-0.34539519 -0.02017565]\n",
      " [ 0.04370403  0.43744994]\n",
      " [ 0.0019662   0.01300461]\n",
      " [ 0.19819716  1.22212021]\n",
      " [-1.02599165 -0.42193738]]\n"
     ]
    }
   ],
   "source": [
    "X2 =  np.delete(X,4,1)\n",
    "model2 = sm.Logit(Y, X2).fit()\n",
    "print(model2.conf_int(alpha))"
   ]
  },
  {
   "cell_type": "markdown",
   "metadata": {
    "id": "Okq1oLjzw5t9"
   },
   "source": []
  },
  {
   "cell_type": "markdown",
   "metadata": {
    "id": "Kdtl_6_dweyQ"
   },
   "source": [
    "On observe que les valeurs sont plus petites et donc plus precises."
   ]
  },
  {
   "cell_type": "markdown",
   "metadata": {
    "id": "bGVNxbSCw5zZ"
   },
   "source": [
    "### 8 - p-valeur du test"
   ]
  },
  {
   "cell_type": "code",
   "execution_count": 143,
   "metadata": {
    "colab": {
     "base_uri": "https://localhost:8080/"
    },
    "executionInfo": {
     "elapsed": 314,
     "status": "ok",
     "timestamp": 1697665782075,
     "user": {
      "displayName": "Coralie Tonle",
      "userId": "08477084319234187105"
     },
     "user_tz": -120
    },
    "id": "ryRDb2x2v6dL",
    "outputId": "1d8be6e2-2778-467a-eb50-27460670cda1"
   },
   "outputs": [
    {
     "name": "stdout",
     "output_type": "stream",
     "text": [
      "0.006553296263843684\n"
     ]
    }
   ],
   "source": [
    "print(model2.pvalues[4])"
   ]
  },
  {
   "cell_type": "markdown",
   "metadata": {
    "id": "GKWgQOlqxIgc"
   },
   "source": [
    "On se rend compte que la p-valeur est beaucoup plus petite et donc le test sera efficace pour l'hypothese : $\\beta_{fare} = 0$"
   ]
  },
  {
   "cell_type": "markdown",
   "metadata": {
    "id": "e0tYi2hRxZda"
   },
   "source": [
    "### 9 - Analyse sans Parch et Fare"
   ]
  },
  {
   "cell_type": "code",
   "execution_count": 144,
   "metadata": {
    "colab": {
     "base_uri": "https://localhost:8080/"
    },
    "executionInfo": {
     "elapsed": 240,
     "status": "ok",
     "timestamp": 1697665941443,
     "user": {
      "displayName": "Coralie Tonle",
      "userId": "08477084319234187105"
     },
     "user_tz": -120
    },
    "id": "i88lqSMtxfoo",
    "outputId": "37cfb221-d894-4a2b-bf8f-a5b78bf37b6e"
   },
   "outputs": [
    {
     "name": "stdout",
     "output_type": "stream",
     "text": [
      "Optimization terminated successfully.\n",
      "         Current function value: 0.589890\n",
      "         Iterations 6\n",
      "[[-0.02198677 -0.00774037]\n",
      " [-0.36233486 -0.03657359]\n",
      " [ 0.00591034  0.39602103]\n",
      " [ 0.00730465  0.0172311 ]\n",
      " [-1.16411829 -0.61161957]]\n"
     ]
    }
   ],
   "source": [
    "X3=  np.delete(X2,4,1)\n",
    "model3 = sm.Logit(Y, X3).fit()\n",
    "print(model3.conf_int(alpha))"
   ]
  },
  {
   "cell_type": "markdown",
   "metadata": {
    "id": "PBJZdQdCxuqV"
   },
   "source": [
    "Les intervalles de confiance sont encore plus petits que precedemment"
   ]
  },
  {
   "cell_type": "markdown",
   "metadata": {
    "id": "8G5WRj7TyGbm"
   },
   "source": [
    "Conclusion :  Les variables Parch et Fare ajoutent du bruit au modele et ne sont pas tres determinante pour la survie des passagers"
   ]
  }
 ],
 "metadata": {
  "colab": {
   "authorship_tag": "ABX9TyOGem8y1ecWp/t48uAg1fA6",
   "provenance": []
  },
  "kernelspec": {
   "display_name": "Python 3",
   "name": "python3"
  },
  "language_info": {
   "name": "python"
  }
 },
 "nbformat": 4,
 "nbformat_minor": 0
}
